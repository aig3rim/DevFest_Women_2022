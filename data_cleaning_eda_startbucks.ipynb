{
 "cells": [
  {
   "cell_type": "markdown",
   "id": "12c0fd0e",
   "metadata": {},
   "source": [
    "# This notebook is for data cleaning and Exploratory Data Analysis, which will be used for user persona analysis"
   ]
  },
  {
   "cell_type": "markdown",
   "id": "7af8d347",
   "metadata": {},
   "source": [
    "* Starbucks dataset: https://www.kaggle.com/datasets/ihormuliar/starbucks-customer-data\n",
    "* `profile.csv` - dimensional data about each person, including their age, salary, and gender. There is one unique customer for each record\n",
    "* `portfolio.csv` - information about the promotional offers that are possible to receive, and basic information about each one including the promotional type, duration of the promotion, reward, and how the promotion was distributed to customers\n",
    "* `transcript.csv` - records show the different steps of promotional offers that a customer received. The different values of receiving a promotion are receiving, viewing, and completing. You also see the different transactions that a person made in the time since he became a customer. With all records, you see the day that they interacted with Starbucks and the amount that it is worth"
   ]
  },
  {
   "cell_type": "markdown",
   "id": "468fdc27",
   "metadata": {},
   "source": [
    "## Settings"
   ]
  },
  {
   "cell_type": "code",
   "execution_count": 1,
   "id": "4c860c94",
   "metadata": {},
   "outputs": [
    {
     "name": "stderr",
     "output_type": "stream",
     "text": [
      "/Users/aigerimshopenova/opt/anaconda3/envs/dev_fest/lib/python3.8/site-packages/scipy/__init__.py:146: UserWarning: A NumPy version >=1.16.5 and <1.23.0 is required for this version of SciPy (detected version 1.23.4\n",
      "  warnings.warn(f\"A NumPy version >={np_minversion} and <{np_maxversion}\"\n"
     ]
    }
   ],
   "source": [
    "import pandas as pd\n",
    "import numpy as np\n",
    "\n",
    "import datetime as dt\n",
    "\n",
    "import matplotlib.pyplot as plt\n",
    "import seaborn as sns\n",
    "%matplotlib inline\n",
    "import altair as alt\n",
    "\n",
    "import warnings\n",
    "warnings.filterwarnings('ignore')"
   ]
  },
  {
   "cell_type": "code",
   "execution_count": 2,
   "id": "43c07af1",
   "metadata": {},
   "outputs": [],
   "source": [
    "pd.options.display.float_format = '{:,.2f}'.format"
   ]
  },
  {
   "cell_type": "markdown",
   "id": "e6e95521",
   "metadata": {},
   "source": [
    "## Reading and exploring available data"
   ]
  },
  {
   "cell_type": "markdown",
   "id": "e1d61144",
   "metadata": {},
   "source": [
    "### Profile data"
   ]
  },
  {
   "cell_type": "code",
   "execution_count": 3,
   "id": "8af0d061",
   "metadata": {},
   "outputs": [],
   "source": [
    "df_p = pd.read_csv(\"./data/starbucks/profile.csv\")"
   ]
  },
  {
   "cell_type": "code",
   "execution_count": 4,
   "id": "ab0c68f7",
   "metadata": {},
   "outputs": [
    {
     "data": {
      "text/html": [
       "<div>\n",
       "<style scoped>\n",
       "    .dataframe tbody tr th:only-of-type {\n",
       "        vertical-align: middle;\n",
       "    }\n",
       "\n",
       "    .dataframe tbody tr th {\n",
       "        vertical-align: top;\n",
       "    }\n",
       "\n",
       "    .dataframe thead th {\n",
       "        text-align: right;\n",
       "    }\n",
       "</style>\n",
       "<table border=\"1\" class=\"dataframe\">\n",
       "  <thead>\n",
       "    <tr style=\"text-align: right;\">\n",
       "      <th></th>\n",
       "      <th>Unnamed: 0</th>\n",
       "      <th>gender</th>\n",
       "      <th>age</th>\n",
       "      <th>id</th>\n",
       "      <th>became_member_on</th>\n",
       "      <th>income</th>\n",
       "    </tr>\n",
       "  </thead>\n",
       "  <tbody>\n",
       "    <tr>\n",
       "      <th>0</th>\n",
       "      <td>0</td>\n",
       "      <td>NaN</td>\n",
       "      <td>118</td>\n",
       "      <td>68be06ca386d4c31939f3a4f0e3dd783</td>\n",
       "      <td>20170212</td>\n",
       "      <td>NaN</td>\n",
       "    </tr>\n",
       "    <tr>\n",
       "      <th>1</th>\n",
       "      <td>1</td>\n",
       "      <td>F</td>\n",
       "      <td>55</td>\n",
       "      <td>0610b486422d4921ae7d2bf64640c50b</td>\n",
       "      <td>20170715</td>\n",
       "      <td>112,000.00</td>\n",
       "    </tr>\n",
       "    <tr>\n",
       "      <th>2</th>\n",
       "      <td>2</td>\n",
       "      <td>NaN</td>\n",
       "      <td>118</td>\n",
       "      <td>38fe809add3b4fcf9315a9694bb96ff5</td>\n",
       "      <td>20180712</td>\n",
       "      <td>NaN</td>\n",
       "    </tr>\n",
       "    <tr>\n",
       "      <th>3</th>\n",
       "      <td>3</td>\n",
       "      <td>F</td>\n",
       "      <td>75</td>\n",
       "      <td>78afa995795e4d85b5d9ceeca43f5fef</td>\n",
       "      <td>20170509</td>\n",
       "      <td>100,000.00</td>\n",
       "    </tr>\n",
       "    <tr>\n",
       "      <th>4</th>\n",
       "      <td>4</td>\n",
       "      <td>NaN</td>\n",
       "      <td>118</td>\n",
       "      <td>a03223e636434f42ac4c3df47e8bac43</td>\n",
       "      <td>20170804</td>\n",
       "      <td>NaN</td>\n",
       "    </tr>\n",
       "  </tbody>\n",
       "</table>\n",
       "</div>"
      ],
      "text/plain": [
       "   Unnamed: 0 gender  age                                id  became_member_on  \\\n",
       "0           0    NaN  118  68be06ca386d4c31939f3a4f0e3dd783          20170212   \n",
       "1           1      F   55  0610b486422d4921ae7d2bf64640c50b          20170715   \n",
       "2           2    NaN  118  38fe809add3b4fcf9315a9694bb96ff5          20180712   \n",
       "3           3      F   75  78afa995795e4d85b5d9ceeca43f5fef          20170509   \n",
       "4           4    NaN  118  a03223e636434f42ac4c3df47e8bac43          20170804   \n",
       "\n",
       "      income  \n",
       "0        NaN  \n",
       "1 112,000.00  \n",
       "2        NaN  \n",
       "3 100,000.00  \n",
       "4        NaN  "
      ]
     },
     "execution_count": 4,
     "metadata": {},
     "output_type": "execute_result"
    }
   ],
   "source": [
    "df_p.head()"
   ]
  },
  {
   "cell_type": "markdown",
   "id": "3961ba21",
   "metadata": {},
   "source": [
    "Let us drop a redundant column"
   ]
  },
  {
   "cell_type": "code",
   "execution_count": 5,
   "id": "c46f2924",
   "metadata": {},
   "outputs": [],
   "source": [
    "df_p.drop(columns='Unnamed: 0', inplace=True)"
   ]
  },
  {
   "cell_type": "code",
   "execution_count": 6,
   "id": "78937e0a",
   "metadata": {},
   "outputs": [
    {
     "name": "stdout",
     "output_type": "stream",
     "text": [
      "<class 'pandas.core.frame.DataFrame'>\n",
      "RangeIndex: 17000 entries, 0 to 16999\n",
      "Data columns (total 5 columns):\n",
      " #   Column            Non-Null Count  Dtype  \n",
      "---  ------            --------------  -----  \n",
      " 0   gender            14825 non-null  object \n",
      " 1   age               17000 non-null  int64  \n",
      " 2   id                17000 non-null  object \n",
      " 3   became_member_on  17000 non-null  int64  \n",
      " 4   income            14825 non-null  float64\n",
      "dtypes: float64(1), int64(2), object(2)\n",
      "memory usage: 664.2+ KB\n"
     ]
    }
   ],
   "source": [
    "df_p.info()"
   ]
  },
  {
   "cell_type": "code",
   "execution_count": 7,
   "id": "ec576b5c",
   "metadata": {},
   "outputs": [
    {
     "data": {
      "text/plain": [
       "0"
      ]
     },
     "execution_count": 7,
     "metadata": {},
     "output_type": "execute_result"
    }
   ],
   "source": [
    "df_p.duplicated().sum()"
   ]
  },
  {
   "cell_type": "code",
   "execution_count": 8,
   "id": "8301bad1",
   "metadata": {},
   "outputs": [
    {
     "data": {
      "text/plain": [
       "gender              2175\n",
       "age                    0\n",
       "id                     0\n",
       "became_member_on       0\n",
       "income              2175\n",
       "dtype: int64"
      ]
     },
     "execution_count": 8,
     "metadata": {},
     "output_type": "execute_result"
    }
   ],
   "source": [
    "df_p.isnull().sum()"
   ]
  },
  {
   "cell_type": "markdown",
   "id": "a1e7556d",
   "metadata": {},
   "source": [
    "There are some null values in the `gender` and `income` columns"
   ]
  },
  {
   "cell_type": "code",
   "execution_count": 9,
   "id": "303c9d67",
   "metadata": {},
   "outputs": [
    {
     "data": {
      "text/plain": [
       "17000"
      ]
     },
     "execution_count": 9,
     "metadata": {},
     "output_type": "execute_result"
    }
   ],
   "source": [
    "df_p['id'].nunique()"
   ]
  },
  {
   "cell_type": "markdown",
   "id": "b482c388",
   "metadata": {},
   "source": [
    "17,000 unique users in the dataset"
   ]
  },
  {
   "cell_type": "code",
   "execution_count": 10,
   "id": "8b65f0be",
   "metadata": {},
   "outputs": [
    {
     "data": {
      "image/png": "[encoded data removed]",
      "text/plain": [
       "<Figure size 432x288 with 1 Axes>"
      ]
     },
     "metadata": {
      "needs_background": "light"
     },
     "output_type": "display_data"
    }
   ],
   "source": [
    "df_p['gender'].value_counts(normalize=True).plot.bar(color='dodgerblue');"
   ]
  },
  {
   "cell_type": "code",
   "execution_count": 11,
   "id": "0f624ac4",
   "metadata": {},
   "outputs": [
    {
     "data": {
      "text/plain": [
       "M   0.57\n",
       "F   0.41\n",
       "O   0.01\n",
       "Name: gender, dtype: float64"
      ]
     },
     "execution_count": 11,
     "metadata": {},
     "output_type": "execute_result"
    }
   ],
   "source": [
    "df_p['gender'].value_counts(normalize=True)"
   ]
  },
  {
   "cell_type": "markdown",
   "id": "7b081d7a",
   "metadata": {},
   "source": [
    "The majority of records belongs to Male users (57%)"
   ]
  },
  {
   "cell_type": "code",
   "execution_count": 12,
   "id": "d9a7b8f6",
   "metadata": {},
   "outputs": [
    {
     "data": {
      "image/png": "[encoded data removed]",
      "text/plain": [
       "<Figure size 360x360 with 1 Axes>"
      ]
     },
     "metadata": {
      "needs_background": "light"
     },
     "output_type": "display_data"
    }
   ],
   "source": [
    "sns.displot(df_p, x=\"income\", color='dodgerblue', binwidth=5000);"
   ]
  },
  {
   "cell_type": "code",
   "execution_count": 13,
   "id": "ef4566ef",
   "metadata": {},
   "outputs": [
    {
     "data": {
      "text/plain": [
       "count    14,825.00\n",
       "mean     65,404.99\n",
       "std      21,598.30\n",
       "min      30,000.00\n",
       "25%      49,000.00\n",
       "50%      64,000.00\n",
       "75%      80,000.00\n",
       "max     120,000.00\n",
       "Name: income, dtype: float64"
      ]
     },
     "execution_count": 13,
     "metadata": {},
     "output_type": "execute_result"
    }
   ],
   "source": [
    "df_p['income'].describe()"
   ]
  },
  {
   "cell_type": "code",
   "execution_count": 14,
   "id": "d62e8067",
   "metadata": {},
   "outputs": [
    {
     "data": {
      "image/png": "[encoded data removed]",
      "text/plain": [
       "<Figure size 360x360 with 1 Axes>"
      ]
     },
     "metadata": {
      "needs_background": "light"
     },
     "output_type": "display_data"
    }
   ],
   "source": [
    "sns.displot(df_p, x=\"age\", color='dodgerblue', binwidth=5);"
   ]
  },
  {
   "cell_type": "markdown",
   "id": "e85e78d6",
   "metadata": {},
   "source": [
    "There are some outliers in the `age` column"
   ]
  },
  {
   "cell_type": "code",
   "execution_count": 15,
   "id": "f7622964",
   "metadata": {},
   "outputs": [
    {
     "data": {
      "text/plain": [
       "count   17,000.00\n",
       "mean        62.53\n",
       "std         26.74\n",
       "min         18.00\n",
       "50%         58.00\n",
       "80%         78.00\n",
       "90%        118.00\n",
       "95%        118.00\n",
       "98%        118.00\n",
       "99%        118.00\n",
       "max        118.00\n",
       "Name: age, dtype: float64"
      ]
     },
     "execution_count": 15,
     "metadata": {},
     "output_type": "execute_result"
    }
   ],
   "source": [
    "df_p['age'].describe(percentiles=[0.8, 0.9, 0.95, 0.98, 0.99])"
   ]
  },
  {
   "cell_type": "code",
   "execution_count": 16,
   "id": "99d52ce3",
   "metadata": {},
   "outputs": [
    {
     "data": {
      "text/html": [
       "<div>\n",
       "<style scoped>\n",
       "    .dataframe tbody tr th:only-of-type {\n",
       "        vertical-align: middle;\n",
       "    }\n",
       "\n",
       "    .dataframe tbody tr th {\n",
       "        vertical-align: top;\n",
       "    }\n",
       "\n",
       "    .dataframe thead th {\n",
       "        text-align: right;\n",
       "    }\n",
       "</style>\n",
       "<table border=\"1\" class=\"dataframe\">\n",
       "  <thead>\n",
       "    <tr style=\"text-align: right;\">\n",
       "      <th></th>\n",
       "      <th>gender</th>\n",
       "      <th>age</th>\n",
       "      <th>id</th>\n",
       "      <th>became_member_on</th>\n",
       "      <th>income</th>\n",
       "    </tr>\n",
       "  </thead>\n",
       "  <tbody>\n",
       "    <tr>\n",
       "      <th>33</th>\n",
       "      <td>F</td>\n",
       "      <td>96</td>\n",
       "      <td>868317b9be554cb18e50bc68484749a2</td>\n",
       "      <td>20171117</td>\n",
       "      <td>89,000.00</td>\n",
       "    </tr>\n",
       "    <tr>\n",
       "      <th>94</th>\n",
       "      <td>F</td>\n",
       "      <td>89</td>\n",
       "      <td>4264b1d027cc493281bba4f44bfedaca</td>\n",
       "      <td>20171114</td>\n",
       "      <td>87,000.00</td>\n",
       "    </tr>\n",
       "    <tr>\n",
       "      <th>98</th>\n",
       "      <td>F</td>\n",
       "      <td>90</td>\n",
       "      <td>1c587de019994f93a242c6864fd7bc55</td>\n",
       "      <td>20151210</td>\n",
       "      <td>98,000.00</td>\n",
       "    </tr>\n",
       "    <tr>\n",
       "      <th>126</th>\n",
       "      <td>M</td>\n",
       "      <td>83</td>\n",
       "      <td>4c29d22467af4d7faa137c4eedd65340</td>\n",
       "      <td>20180127</td>\n",
       "      <td>46,000.00</td>\n",
       "    </tr>\n",
       "    <tr>\n",
       "      <th>131</th>\n",
       "      <td>F</td>\n",
       "      <td>89</td>\n",
       "      <td>3dae0eadb47149b0b9b548d14548524b</td>\n",
       "      <td>20180114</td>\n",
       "      <td>65,000.00</td>\n",
       "    </tr>\n",
       "    <tr>\n",
       "      <th>...</th>\n",
       "      <td>...</td>\n",
       "      <td>...</td>\n",
       "      <td>...</td>\n",
       "      <td>...</td>\n",
       "      <td>...</td>\n",
       "    </tr>\n",
       "    <tr>\n",
       "      <th>16914</th>\n",
       "      <td>M</td>\n",
       "      <td>87</td>\n",
       "      <td>d1c4500ace2e45e9a45d3cd2fccac8d8</td>\n",
       "      <td>20140920</td>\n",
       "      <td>59,000.00</td>\n",
       "    </tr>\n",
       "    <tr>\n",
       "      <th>16933</th>\n",
       "      <td>M</td>\n",
       "      <td>85</td>\n",
       "      <td>a65353ea28ff442aabfb39eb974326e3</td>\n",
       "      <td>20161001</td>\n",
       "      <td>96,000.00</td>\n",
       "    </tr>\n",
       "    <tr>\n",
       "      <th>16938</th>\n",
       "      <td>F</td>\n",
       "      <td>89</td>\n",
       "      <td>da7bf9d84fd74a72bdee595007bcca7a</td>\n",
       "      <td>20170413</td>\n",
       "      <td>68,000.00</td>\n",
       "    </tr>\n",
       "    <tr>\n",
       "      <th>16981</th>\n",
       "      <td>M</td>\n",
       "      <td>84</td>\n",
       "      <td>1966fa40d2f84620b2b1b9b64f8e0209</td>\n",
       "      <td>20160629</td>\n",
       "      <td>93,000.00</td>\n",
       "    </tr>\n",
       "    <tr>\n",
       "      <th>16998</th>\n",
       "      <td>F</td>\n",
       "      <td>83</td>\n",
       "      <td>9dc1421481194dcd9400aec7c9ae6366</td>\n",
       "      <td>20160307</td>\n",
       "      <td>50,000.00</td>\n",
       "    </tr>\n",
       "  </tbody>\n",
       "</table>\n",
       "<p>981 rows × 5 columns</p>\n",
       "</div>"
      ],
      "text/plain": [
       "      gender  age                                id  became_member_on  \\\n",
       "33         F   96  868317b9be554cb18e50bc68484749a2          20171117   \n",
       "94         F   89  4264b1d027cc493281bba4f44bfedaca          20171114   \n",
       "98         F   90  1c587de019994f93a242c6864fd7bc55          20151210   \n",
       "126        M   83  4c29d22467af4d7faa137c4eedd65340          20180127   \n",
       "131        F   89  3dae0eadb47149b0b9b548d14548524b          20180114   \n",
       "...      ...  ...                               ...               ...   \n",
       "16914      M   87  d1c4500ace2e45e9a45d3cd2fccac8d8          20140920   \n",
       "16933      M   85  a65353ea28ff442aabfb39eb974326e3          20161001   \n",
       "16938      F   89  da7bf9d84fd74a72bdee595007bcca7a          20170413   \n",
       "16981      M   84  1966fa40d2f84620b2b1b9b64f8e0209          20160629   \n",
       "16998      F   83  9dc1421481194dcd9400aec7c9ae6366          20160307   \n",
       "\n",
       "         income  \n",
       "33    89,000.00  \n",
       "94    87,000.00  \n",
       "98    98,000.00  \n",
       "126   46,000.00  \n",
       "131   65,000.00  \n",
       "...         ...  \n",
       "16914 59,000.00  \n",
       "16933 96,000.00  \n",
       "16938 68,000.00  \n",
       "16981 93,000.00  \n",
       "16998 50,000.00  \n",
       "\n",
       "[981 rows x 5 columns]"
      ]
     },
     "execution_count": 16,
     "metadata": {},
     "output_type": "execute_result"
    }
   ],
   "source": [
    "df_p[(df_p['age'] > 80) & (df_p['age'] <= 100)]"
   ]
  },
  {
   "cell_type": "code",
   "execution_count": 17,
   "id": "b94dd6ab",
   "metadata": {},
   "outputs": [
    {
     "data": {
      "text/html": [
       "<div>\n",
       "<style scoped>\n",
       "    .dataframe tbody tr th:only-of-type {\n",
       "        vertical-align: middle;\n",
       "    }\n",
       "\n",
       "    .dataframe tbody tr th {\n",
       "        vertical-align: top;\n",
       "    }\n",
       "\n",
       "    .dataframe thead th {\n",
       "        text-align: right;\n",
       "    }\n",
       "</style>\n",
       "<table border=\"1\" class=\"dataframe\">\n",
       "  <thead>\n",
       "    <tr style=\"text-align: right;\">\n",
       "      <th></th>\n",
       "      <th>gender</th>\n",
       "      <th>age</th>\n",
       "      <th>id</th>\n",
       "      <th>became_member_on</th>\n",
       "      <th>income</th>\n",
       "    </tr>\n",
       "  </thead>\n",
       "  <tbody>\n",
       "    <tr>\n",
       "      <th>0</th>\n",
       "      <td>NaN</td>\n",
       "      <td>118</td>\n",
       "      <td>68be06ca386d4c31939f3a4f0e3dd783</td>\n",
       "      <td>20170212</td>\n",
       "      <td>NaN</td>\n",
       "    </tr>\n",
       "    <tr>\n",
       "      <th>2</th>\n",
       "      <td>NaN</td>\n",
       "      <td>118</td>\n",
       "      <td>38fe809add3b4fcf9315a9694bb96ff5</td>\n",
       "      <td>20180712</td>\n",
       "      <td>NaN</td>\n",
       "    </tr>\n",
       "    <tr>\n",
       "      <th>4</th>\n",
       "      <td>NaN</td>\n",
       "      <td>118</td>\n",
       "      <td>a03223e636434f42ac4c3df47e8bac43</td>\n",
       "      <td>20170804</td>\n",
       "      <td>NaN</td>\n",
       "    </tr>\n",
       "    <tr>\n",
       "      <th>6</th>\n",
       "      <td>NaN</td>\n",
       "      <td>118</td>\n",
       "      <td>8ec6ce2a7e7949b1bf142def7d0e0586</td>\n",
       "      <td>20170925</td>\n",
       "      <td>NaN</td>\n",
       "    </tr>\n",
       "    <tr>\n",
       "      <th>7</th>\n",
       "      <td>NaN</td>\n",
       "      <td>118</td>\n",
       "      <td>68617ca6246f4fbc85e91a2a49552598</td>\n",
       "      <td>20171002</td>\n",
       "      <td>NaN</td>\n",
       "    </tr>\n",
       "    <tr>\n",
       "      <th>...</th>\n",
       "      <td>...</td>\n",
       "      <td>...</td>\n",
       "      <td>...</td>\n",
       "      <td>...</td>\n",
       "      <td>...</td>\n",
       "    </tr>\n",
       "    <tr>\n",
       "      <th>16980</th>\n",
       "      <td>NaN</td>\n",
       "      <td>118</td>\n",
       "      <td>5c686d09ca4d475a8f750f2ba07e0440</td>\n",
       "      <td>20160901</td>\n",
       "      <td>NaN</td>\n",
       "    </tr>\n",
       "    <tr>\n",
       "      <th>16982</th>\n",
       "      <td>NaN</td>\n",
       "      <td>118</td>\n",
       "      <td>d9ca82f550ac4ee58b6299cf1e5c824a</td>\n",
       "      <td>20160415</td>\n",
       "      <td>NaN</td>\n",
       "    </tr>\n",
       "    <tr>\n",
       "      <th>16989</th>\n",
       "      <td>NaN</td>\n",
       "      <td>118</td>\n",
       "      <td>ca45ee1883624304bac1e4c8a114f045</td>\n",
       "      <td>20180305</td>\n",
       "      <td>NaN</td>\n",
       "    </tr>\n",
       "    <tr>\n",
       "      <th>16991</th>\n",
       "      <td>NaN</td>\n",
       "      <td>118</td>\n",
       "      <td>a9a20fa8b5504360beb4e7c8712f8306</td>\n",
       "      <td>20160116</td>\n",
       "      <td>NaN</td>\n",
       "    </tr>\n",
       "    <tr>\n",
       "      <th>16994</th>\n",
       "      <td>NaN</td>\n",
       "      <td>118</td>\n",
       "      <td>c02b10e8752c4d8e9b73f918558531f7</td>\n",
       "      <td>20151211</td>\n",
       "      <td>NaN</td>\n",
       "    </tr>\n",
       "  </tbody>\n",
       "</table>\n",
       "<p>2180 rows × 5 columns</p>\n",
       "</div>"
      ],
      "text/plain": [
       "      gender  age                                id  became_member_on  income\n",
       "0        NaN  118  68be06ca386d4c31939f3a4f0e3dd783          20170212     NaN\n",
       "2        NaN  118  38fe809add3b4fcf9315a9694bb96ff5          20180712     NaN\n",
       "4        NaN  118  a03223e636434f42ac4c3df47e8bac43          20170804     NaN\n",
       "6        NaN  118  8ec6ce2a7e7949b1bf142def7d0e0586          20170925     NaN\n",
       "7        NaN  118  68617ca6246f4fbc85e91a2a49552598          20171002     NaN\n",
       "...      ...  ...                               ...               ...     ...\n",
       "16980    NaN  118  5c686d09ca4d475a8f750f2ba07e0440          20160901     NaN\n",
       "16982    NaN  118  d9ca82f550ac4ee58b6299cf1e5c824a          20160415     NaN\n",
       "16989    NaN  118  ca45ee1883624304bac1e4c8a114f045          20180305     NaN\n",
       "16991    NaN  118  a9a20fa8b5504360beb4e7c8712f8306          20160116     NaN\n",
       "16994    NaN  118  c02b10e8752c4d8e9b73f918558531f7          20151211     NaN\n",
       "\n",
       "[2180 rows x 5 columns]"
      ]
     },
     "execution_count": 17,
     "metadata": {},
     "output_type": "execute_result"
    }
   ],
   "source": [
    "df_p[df_p['age'] > 100]"
   ]
  },
  {
   "cell_type": "code",
   "execution_count": 18,
   "id": "a2a4d384",
   "metadata": {},
   "outputs": [
    {
     "data": {
      "text/plain": [
       "2175"
      ]
     },
     "execution_count": 18,
     "metadata": {},
     "output_type": "execute_result"
    }
   ],
   "source": [
    "df_p[df_p['age'] > 100]['income'].isnull().sum()"
   ]
  },
  {
   "cell_type": "code",
   "execution_count": 19,
   "id": "b5194883",
   "metadata": {},
   "outputs": [
    {
     "data": {
      "text/plain": [
       "2175"
      ]
     },
     "execution_count": 19,
     "metadata": {},
     "output_type": "execute_result"
    }
   ],
   "source": [
    "df_p[df_p['age'] > 100]['gender'].isnull().sum()"
   ]
  },
  {
   "cell_type": "markdown",
   "id": "8677316f",
   "metadata": {},
   "source": [
    "It seems that there are 2,175 users who didn't provide gender and income information. Also, these users identified themselves as over 100 y.o., which looks suspicious."
   ]
  },
  {
   "cell_type": "code",
   "execution_count": 20,
   "id": "f0cc3ff6",
   "metadata": {},
   "outputs": [
    {
     "name": "stdout",
     "output_type": "stream",
     "text": [
      "gender               object\n",
      "age                   int64\n",
      "id                   object\n",
      "became_member_on      int64\n",
      "income              float64\n",
      "dtype: object\n"
     ]
    }
   ],
   "source": [
    "print (df_p.dtypes)"
   ]
  },
  {
   "cell_type": "markdown",
   "id": "c53c16fc",
   "metadata": {},
   "source": [
    "`became_member_on` column has int data type"
   ]
  },
  {
   "cell_type": "markdown",
   "id": "238a5893",
   "metadata": {},
   "source": [
    "***How are we going to clean up the data?***"
   ]
  },
  {
   "cell_type": "markdown",
   "id": "8799d3f6",
   "metadata": {},
   "source": [
    "1. Deal with age over 100 y.o.\n",
    "2. Deal with null values in `income` and `gender` columns\n",
    "3. Change data type from int to datetime for `became_member_on` column"
   ]
  },
  {
   "cell_type": "markdown",
   "id": "186ee2c4",
   "metadata": {},
   "source": [
    "***What kind of new features we can create?***"
   ]
  },
  {
   "cell_type": "markdown",
   "id": "fa4a8522",
   "metadata": {},
   "source": [
    "1. `days_being_member` column can be created using `became_member_on` column\n",
    "2. Change values for `gender`column. \n",
    "Instead of using F, M and O values, we can use numbers 1 - F, 2 - M, O - 3."
   ]
  },
  {
   "cell_type": "markdown",
   "id": "81ab61bf",
   "metadata": {},
   "source": [
    "### Portfolio data"
   ]
  },
  {
   "cell_type": "code",
   "execution_count": 21,
   "id": "6b336d29",
   "metadata": {},
   "outputs": [],
   "source": [
    "df_port = pd.read_csv(\"./data/starbucks/portfolio.csv\")"
   ]
  },
  {
   "cell_type": "code",
   "execution_count": 22,
   "id": "a13987a9",
   "metadata": {},
   "outputs": [
    {
     "data": {
      "text/html": [
       "<div>\n",
       "<style scoped>\n",
       "    .dataframe tbody tr th:only-of-type {\n",
       "        vertical-align: middle;\n",
       "    }\n",
       "\n",
       "    .dataframe tbody tr th {\n",
       "        vertical-align: top;\n",
       "    }\n",
       "\n",
       "    .dataframe thead th {\n",
       "        text-align: right;\n",
       "    }\n",
       "</style>\n",
       "<table border=\"1\" class=\"dataframe\">\n",
       "  <thead>\n",
       "    <tr style=\"text-align: right;\">\n",
       "      <th></th>\n",
       "      <th>Unnamed: 0</th>\n",
       "      <th>reward</th>\n",
       "      <th>channels</th>\n",
       "      <th>difficulty</th>\n",
       "      <th>duration</th>\n",
       "      <th>offer_type</th>\n",
       "      <th>id</th>\n",
       "    </tr>\n",
       "  </thead>\n",
       "  <tbody>\n",
       "    <tr>\n",
       "      <th>0</th>\n",
       "      <td>0</td>\n",
       "      <td>10</td>\n",
       "      <td>['email', 'mobile', 'social']</td>\n",
       "      <td>10</td>\n",
       "      <td>7</td>\n",
       "      <td>bogo</td>\n",
       "      <td>ae264e3637204a6fb9bb56bc8210ddfd</td>\n",
       "    </tr>\n",
       "    <tr>\n",
       "      <th>1</th>\n",
       "      <td>1</td>\n",
       "      <td>10</td>\n",
       "      <td>['web', 'email', 'mobile', 'social']</td>\n",
       "      <td>10</td>\n",
       "      <td>5</td>\n",
       "      <td>bogo</td>\n",
       "      <td>4d5c57ea9a6940dd891ad53e9dbe8da0</td>\n",
       "    </tr>\n",
       "    <tr>\n",
       "      <th>2</th>\n",
       "      <td>2</td>\n",
       "      <td>0</td>\n",
       "      <td>['web', 'email', 'mobile']</td>\n",
       "      <td>0</td>\n",
       "      <td>4</td>\n",
       "      <td>informational</td>\n",
       "      <td>3f207df678b143eea3cee63160fa8bed</td>\n",
       "    </tr>\n",
       "    <tr>\n",
       "      <th>3</th>\n",
       "      <td>3</td>\n",
       "      <td>5</td>\n",
       "      <td>['web', 'email', 'mobile']</td>\n",
       "      <td>5</td>\n",
       "      <td>7</td>\n",
       "      <td>bogo</td>\n",
       "      <td>9b98b8c7a33c4b65b9aebfe6a799e6d9</td>\n",
       "    </tr>\n",
       "    <tr>\n",
       "      <th>4</th>\n",
       "      <td>4</td>\n",
       "      <td>5</td>\n",
       "      <td>['web', 'email']</td>\n",
       "      <td>20</td>\n",
       "      <td>10</td>\n",
       "      <td>discount</td>\n",
       "      <td>0b1e1539f2cc45b7b9fa7c272da2e1d7</td>\n",
       "    </tr>\n",
       "    <tr>\n",
       "      <th>5</th>\n",
       "      <td>5</td>\n",
       "      <td>3</td>\n",
       "      <td>['web', 'email', 'mobile', 'social']</td>\n",
       "      <td>7</td>\n",
       "      <td>7</td>\n",
       "      <td>discount</td>\n",
       "      <td>2298d6c36e964ae4a3e7e9706d1fb8c2</td>\n",
       "    </tr>\n",
       "    <tr>\n",
       "      <th>6</th>\n",
       "      <td>6</td>\n",
       "      <td>2</td>\n",
       "      <td>['web', 'email', 'mobile', 'social']</td>\n",
       "      <td>10</td>\n",
       "      <td>10</td>\n",
       "      <td>discount</td>\n",
       "      <td>fafdcd668e3743c1bb461111dcafc2a4</td>\n",
       "    </tr>\n",
       "    <tr>\n",
       "      <th>7</th>\n",
       "      <td>7</td>\n",
       "      <td>0</td>\n",
       "      <td>['email', 'mobile', 'social']</td>\n",
       "      <td>0</td>\n",
       "      <td>3</td>\n",
       "      <td>informational</td>\n",
       "      <td>5a8bc65990b245e5a138643cd4eb9837</td>\n",
       "    </tr>\n",
       "    <tr>\n",
       "      <th>8</th>\n",
       "      <td>8</td>\n",
       "      <td>5</td>\n",
       "      <td>['web', 'email', 'mobile', 'social']</td>\n",
       "      <td>5</td>\n",
       "      <td>5</td>\n",
       "      <td>bogo</td>\n",
       "      <td>f19421c1d4aa40978ebb69ca19b0e20d</td>\n",
       "    </tr>\n",
       "    <tr>\n",
       "      <th>9</th>\n",
       "      <td>9</td>\n",
       "      <td>2</td>\n",
       "      <td>['web', 'email', 'mobile']</td>\n",
       "      <td>10</td>\n",
       "      <td>7</td>\n",
       "      <td>discount</td>\n",
       "      <td>2906b810c7d4411798c6938adc9daaa5</td>\n",
       "    </tr>\n",
       "  </tbody>\n",
       "</table>\n",
       "</div>"
      ],
      "text/plain": [
       "   Unnamed: 0  reward                              channels  difficulty  \\\n",
       "0           0      10         ['email', 'mobile', 'social']          10   \n",
       "1           1      10  ['web', 'email', 'mobile', 'social']          10   \n",
       "2           2       0            ['web', 'email', 'mobile']           0   \n",
       "3           3       5            ['web', 'email', 'mobile']           5   \n",
       "4           4       5                      ['web', 'email']          20   \n",
       "5           5       3  ['web', 'email', 'mobile', 'social']           7   \n",
       "6           6       2  ['web', 'email', 'mobile', 'social']          10   \n",
       "7           7       0         ['email', 'mobile', 'social']           0   \n",
       "8           8       5  ['web', 'email', 'mobile', 'social']           5   \n",
       "9           9       2            ['web', 'email', 'mobile']          10   \n",
       "\n",
       "   duration     offer_type                                id  \n",
       "0         7           bogo  ae264e3637204a6fb9bb56bc8210ddfd  \n",
       "1         5           bogo  4d5c57ea9a6940dd891ad53e9dbe8da0  \n",
       "2         4  informational  3f207df678b143eea3cee63160fa8bed  \n",
       "3         7           bogo  9b98b8c7a33c4b65b9aebfe6a799e6d9  \n",
       "4        10       discount  0b1e1539f2cc45b7b9fa7c272da2e1d7  \n",
       "5         7       discount  2298d6c36e964ae4a3e7e9706d1fb8c2  \n",
       "6        10       discount  fafdcd668e3743c1bb461111dcafc2a4  \n",
       "7         3  informational  5a8bc65990b245e5a138643cd4eb9837  \n",
       "8         5           bogo  f19421c1d4aa40978ebb69ca19b0e20d  \n",
       "9         7       discount  2906b810c7d4411798c6938adc9daaa5  "
      ]
     },
     "execution_count": 22,
     "metadata": {},
     "output_type": "execute_result"
    }
   ],
   "source": [
    "df_port"
   ]
  },
  {
   "cell_type": "code",
   "execution_count": 23,
   "id": "96afab56",
   "metadata": {},
   "outputs": [],
   "source": [
    "# Drop redundant column\n",
    "df_port.drop(columns=['Unnamed: 0'], inplace=True)"
   ]
  },
  {
   "cell_type": "code",
   "execution_count": 24,
   "id": "cbed7c98",
   "metadata": {},
   "outputs": [
    {
     "name": "stdout",
     "output_type": "stream",
     "text": [
      "<class 'pandas.core.frame.DataFrame'>\n",
      "RangeIndex: 10 entries, 0 to 9\n",
      "Data columns (total 6 columns):\n",
      " #   Column      Non-Null Count  Dtype \n",
      "---  ------      --------------  ----- \n",
      " 0   reward      10 non-null     int64 \n",
      " 1   channels    10 non-null     object\n",
      " 2   difficulty  10 non-null     int64 \n",
      " 3   duration    10 non-null     int64 \n",
      " 4   offer_type  10 non-null     object\n",
      " 5   id          10 non-null     object\n",
      "dtypes: int64(3), object(3)\n",
      "memory usage: 608.0+ bytes\n"
     ]
    }
   ],
   "source": [
    "df_port.info()"
   ]
  },
  {
   "cell_type": "code",
   "execution_count": 25,
   "id": "04d60883",
   "metadata": {},
   "outputs": [
    {
     "data": {
      "text/plain": [
       "bogo             4\n",
       "discount         4\n",
       "informational    2\n",
       "Name: offer_type, dtype: int64"
      ]
     },
     "execution_count": 25,
     "metadata": {},
     "output_type": "execute_result"
    }
   ],
   "source": [
    "df_port['offer_type'].value_counts()"
   ]
  },
  {
   "cell_type": "code",
   "execution_count": 26,
   "id": "0f32e606",
   "metadata": {},
   "outputs": [],
   "source": [
    "# Rename columns\n",
    "df_port.columns = ['reward', 'channels', 'difficulty', 'duration', 'offer_type', 'offer_id']"
   ]
  },
  {
   "cell_type": "markdown",
   "id": "5fbdbb37",
   "metadata": {},
   "source": [
    "### Transcript data"
   ]
  },
  {
   "cell_type": "code",
   "execution_count": 27,
   "id": "3b22b3bf",
   "metadata": {},
   "outputs": [],
   "source": [
    "df_t = pd.read_csv(\"./data/starbucks/transcript.csv\")"
   ]
  },
  {
   "cell_type": "code",
   "execution_count": 28,
   "id": "3a2ed15f",
   "metadata": {},
   "outputs": [
    {
     "data": {
      "text/html": [
       "<div>\n",
       "<style scoped>\n",
       "    .dataframe tbody tr th:only-of-type {\n",
       "        vertical-align: middle;\n",
       "    }\n",
       "\n",
       "    .dataframe tbody tr th {\n",
       "        vertical-align: top;\n",
       "    }\n",
       "\n",
       "    .dataframe thead th {\n",
       "        text-align: right;\n",
       "    }\n",
       "</style>\n",
       "<table border=\"1\" class=\"dataframe\">\n",
       "  <thead>\n",
       "    <tr style=\"text-align: right;\">\n",
       "      <th></th>\n",
       "      <th>Unnamed: 0</th>\n",
       "      <th>person</th>\n",
       "      <th>event</th>\n",
       "      <th>value</th>\n",
       "      <th>time</th>\n",
       "    </tr>\n",
       "  </thead>\n",
       "  <tbody>\n",
       "    <tr>\n",
       "      <th>0</th>\n",
       "      <td>0</td>\n",
       "      <td>78afa995795e4d85b5d9ceeca43f5fef</td>\n",
       "      <td>offer received</td>\n",
       "      <td>{'offer id': '9b98b8c7a33c4b65b9aebfe6a799e6d9'}</td>\n",
       "      <td>0</td>\n",
       "    </tr>\n",
       "    <tr>\n",
       "      <th>1</th>\n",
       "      <td>1</td>\n",
       "      <td>a03223e636434f42ac4c3df47e8bac43</td>\n",
       "      <td>offer received</td>\n",
       "      <td>{'offer id': '0b1e1539f2cc45b7b9fa7c272da2e1d7'}</td>\n",
       "      <td>0</td>\n",
       "    </tr>\n",
       "    <tr>\n",
       "      <th>2</th>\n",
       "      <td>2</td>\n",
       "      <td>e2127556f4f64592b11af22de27a7932</td>\n",
       "      <td>offer received</td>\n",
       "      <td>{'offer id': '2906b810c7d4411798c6938adc9daaa5'}</td>\n",
       "      <td>0</td>\n",
       "    </tr>\n",
       "    <tr>\n",
       "      <th>3</th>\n",
       "      <td>3</td>\n",
       "      <td>8ec6ce2a7e7949b1bf142def7d0e0586</td>\n",
       "      <td>offer received</td>\n",
       "      <td>{'offer id': 'fafdcd668e3743c1bb461111dcafc2a4'}</td>\n",
       "      <td>0</td>\n",
       "    </tr>\n",
       "    <tr>\n",
       "      <th>4</th>\n",
       "      <td>4</td>\n",
       "      <td>68617ca6246f4fbc85e91a2a49552598</td>\n",
       "      <td>offer received</td>\n",
       "      <td>{'offer id': '4d5c57ea9a6940dd891ad53e9dbe8da0'}</td>\n",
       "      <td>0</td>\n",
       "    </tr>\n",
       "  </tbody>\n",
       "</table>\n",
       "</div>"
      ],
      "text/plain": [
       "   Unnamed: 0                            person           event  \\\n",
       "0           0  78afa995795e4d85b5d9ceeca43f5fef  offer received   \n",
       "1           1  a03223e636434f42ac4c3df47e8bac43  offer received   \n",
       "2           2  e2127556f4f64592b11af22de27a7932  offer received   \n",
       "3           3  8ec6ce2a7e7949b1bf142def7d0e0586  offer received   \n",
       "4           4  68617ca6246f4fbc85e91a2a49552598  offer received   \n",
       "\n",
       "                                              value  time  \n",
       "0  {'offer id': '9b98b8c7a33c4b65b9aebfe6a799e6d9'}     0  \n",
       "1  {'offer id': '0b1e1539f2cc45b7b9fa7c272da2e1d7'}     0  \n",
       "2  {'offer id': '2906b810c7d4411798c6938adc9daaa5'}     0  \n",
       "3  {'offer id': 'fafdcd668e3743c1bb461111dcafc2a4'}     0  \n",
       "4  {'offer id': '4d5c57ea9a6940dd891ad53e9dbe8da0'}     0  "
      ]
     },
     "execution_count": 28,
     "metadata": {},
     "output_type": "execute_result"
    }
   ],
   "source": [
    "df_t.head()"
   ]
  },
  {
   "cell_type": "code",
   "execution_count": 29,
   "id": "84d3c4bf",
   "metadata": {},
   "outputs": [],
   "source": [
    "# Drop redundant column\n",
    "df_t.drop(columns=['Unnamed: 0'], inplace=True)"
   ]
  },
  {
   "cell_type": "code",
   "execution_count": 30,
   "id": "db38f733",
   "metadata": {},
   "outputs": [
    {
     "name": "stdout",
     "output_type": "stream",
     "text": [
      "<class 'pandas.core.frame.DataFrame'>\n",
      "RangeIndex: 306534 entries, 0 to 306533\n",
      "Data columns (total 4 columns):\n",
      " #   Column  Non-Null Count   Dtype \n",
      "---  ------  --------------   ----- \n",
      " 0   person  306534 non-null  object\n",
      " 1   event   306534 non-null  object\n",
      " 2   value   306534 non-null  object\n",
      " 3   time    306534 non-null  int64 \n",
      "dtypes: int64(1), object(3)\n",
      "memory usage: 9.4+ MB\n"
     ]
    }
   ],
   "source": [
    "df_t.info()"
   ]
  },
  {
   "cell_type": "code",
   "execution_count": 31,
   "id": "b10e4c55",
   "metadata": {},
   "outputs": [
    {
     "data": {
      "text/plain": [
       "17000"
      ]
     },
     "execution_count": 31,
     "metadata": {},
     "output_type": "execute_result"
    }
   ],
   "source": [
    "df_t['person'].nunique()"
   ]
  },
  {
   "cell_type": "markdown",
   "id": "17138099",
   "metadata": {},
   "source": [
    "17,000 unique users as in the Profile data"
   ]
  },
  {
   "cell_type": "code",
   "execution_count": 32,
   "id": "6065c8ac",
   "metadata": {},
   "outputs": [
    {
     "data": {
      "image/png": "[encoded data removed]",
      "text/plain": [
       "<Figure size 432x288 with 1 Axes>"
      ]
     },
     "metadata": {
      "needs_background": "light"
     },
     "output_type": "display_data"
    }
   ],
   "source": [
    "df_t['event'].value_counts(normalize=True).plot.bar(color='dodgerblue');"
   ]
  },
  {
   "cell_type": "markdown",
   "id": "da61f170",
   "metadata": {},
   "source": [
    "Let's check transactions only"
   ]
  },
  {
   "cell_type": "code",
   "execution_count": 33,
   "id": "3322f084",
   "metadata": {
    "scrolled": true
   },
   "outputs": [
    {
     "data": {
      "text/plain": [
       "[\"{'amount': 0.8300000000000001}\",\n",
       " \"{'amount': 34.56}\",\n",
       " \"{'amount': 13.23}\",\n",
       " \"{'amount': 19.51}\",\n",
       " \"{'amount': 18.97}\",\n",
       " \"{'amount': 33.9}\",\n",
       " \"{'amount': 0.22}\",\n",
       " \"{'amount': 18.59}\",\n",
       " \"{'amount': 18.01}\",\n",
       " \"{'amount': 19.11}\",\n",
       " \"{'amount': 36.19}\",\n",
       " \"{'amount': 6.46}\",\n",
       " \"{'amount': 5.02}\",\n",
       " \"{'amount': 28.39}\",\n",
       " \"{'amount': 28.08}\",\n",
       " \"{'amount': 0.75}\",\n",
       " \"{'amount': 1.02}\",\n",
       " \"{'amount': 13.57}\",\n",
       " \"{'amount': 10.22}\",\n",
       " \"{'amount': 31.42}\",\n",
       " \"{'amount': 27.89}\",\n",
       " \"{'amount': 4.2}\",\n",
       " \"{'amount': 13.05}\",\n",
       " \"{'amount': 1.16}\",\n",
       " \"{'amount': 38.38}\",\n",
       " \"{'amount': 4.08}\",\n",
       " \"{'amount': 5.78}\",\n",
       " \"{'amount': 14.27}\",\n",
       " \"{'amount': 11.52}\",\n",
       " \"{'amount': 13.93}\",\n",
       " \"{'amount': 4.05}\",\n",
       " \"{'amount': 30.03}\",\n",
       " \"{'amount': 21.84}\",\n",
       " \"{'amount': 10.37}\",\n",
       " \"{'amount': 1.21}\",\n",
       " \"{'amount': 5.46}\",\n",
       " \"{'amount': 7.4}\",\n",
       " \"{'amount': 2.95}\",\n",
       " \"{'amount': 19.82}\",\n",
       " \"{'amount': 11.83}\",\n",
       " \"{'amount': 5.31}\",\n",
       " \"{'amount': 2.44}\",\n",
       " \"{'amount': 3.26}\",\n",
       " \"{'amount': 24.8}\",\n",
       " \"{'amount': 1.23}\",\n",
       " \"{'amount': 17.0}\",\n",
       " \"{'amount': 5.95}\",\n",
       " \"{'amount': 11.76}\",\n",
       " \"{'amount': 3.45}\",\n",
       " \"{'amount': 6.32}\",\n",
       " \"{'amount': 1.3900000000000001}\",\n",
       " \"{'amount': 18.98}\",\n",
       " \"{'amount': 4.27}\",\n",
       " \"{'amount': 4.26}\",\n",
       " \"{'amount': 0.05}\",\n",
       " \"{'amount': 24.98}\",\n",
       " \"{'amount': 18.05}\",\n",
       " \"{'amount': 14.74}\",\n",
       " \"{'amount': 15.72}\",\n",
       " \"{'amount': 12.88}\",\n",
       " \"{'amount': 18.57}\",\n",
       " \"{'amount': 7.61}\",\n",
       " \"{'amount': 6.11}\",\n",
       " \"{'amount': 8.66}\",\n",
       " \"{'amount': 8.99}\",\n",
       " \"{'amount': 3.4}\",\n",
       " \"{'amount': 2.41}\",\n",
       " \"{'amount': 24.38}\",\n",
       " \"{'amount': 18.11}\",\n",
       " \"{'amount': 1.22}\",\n",
       " \"{'amount': 1.33}\",\n",
       " \"{'amount': 25.07}\",\n",
       " \"{'amount': 22.22}\",\n",
       " \"{'amount': 7.66}\",\n",
       " \"{'amount': 18.47}\",\n",
       " \"{'amount': 12.72}\",\n",
       " \"{'amount': 13.37}\",\n",
       " \"{'amount': 11.62}\",\n",
       " \"{'amount': 5.62}\",\n",
       " \"{'amount': 13.42}\",\n",
       " \"{'amount': 0.23}\",\n",
       " \"{'amount': 13.01}\",\n",
       " \"{'amount': 21.34}\",\n",
       " \"{'amount': 39.64}\",\n",
       " \"{'amount': 0.54}\",\n",
       " \"{'amount': 26.47}\",\n",
       " \"{'amount': 1.0}\",\n",
       " \"{'amount': 2.89}\",\n",
       " \"{'amount': 9.33}\",\n",
       " \"{'amount': 14.93}\",\n",
       " \"{'amount': 3.69}\",\n",
       " \"{'amount': 2.04}\",\n",
       " \"{'amount': 2.49}\",\n",
       " \"{'amount': 4.43}\",\n",
       " \"{'amount': 11.29}\",\n",
       " \"{'amount': 16.34}\",\n",
       " \"{'amount': 2.08}\",\n",
       " \"{'amount': 2.26}\",\n",
       " \"{'amount': 9.96}\",\n",
       " \"{'amount': 8.55}\",\n",
       " \"{'amount': 22.87}\",\n",
       " \"{'amount': 24.72}\",\n",
       " \"{'amount': 7.51}\",\n",
       " \"{'amount': 2.31}\",\n",
       " \"{'amount': 2.65}\",\n",
       " \"{'amount': 2.24}\",\n",
       " \"{'amount': 1.6800000000000002}\",\n",
       " \"{'amount': 17.17}\",\n",
       " \"{'amount': 1.7000000000000002}\",\n",
       " \"{'amount': 1.01}\",\n",
       " \"{'amount': 12.09}\",\n",
       " \"{'amount': 0.52}\",\n",
       " \"{'amount': 6.15}\",\n",
       " \"{'amount': 1.06}\",\n",
       " \"{'amount': 12.07}\",\n",
       " \"{'amount': 0.8}\",\n",
       " \"{'amount': 1.26}\",\n",
       " \"{'amount': 4.85}\",\n",
       " \"{'amount': 20.46}\",\n",
       " \"{'amount': 33.56}\",\n",
       " \"{'amount': 23.29}\",\n",
       " \"{'amount': 2.18}\",\n",
       " \"{'amount': 1.13}\",\n",
       " \"{'amount': 1.51}\",\n",
       " \"{'amount': 26.11}\",\n",
       " \"{'amount': 6.52}\",\n",
       " \"{'amount': 8.57}\",\n",
       " \"{'amount': 5.98}\",\n",
       " \"{'amount': 10.56}\",\n",
       " \"{'amount': 8.27}\",\n",
       " \"{'amount': 26.5}\",\n",
       " \"{'amount': 9.08}\",\n",
       " \"{'amount': 21.4}\",\n",
       " \"{'amount': 19.53}\",\n",
       " \"{'amount': 3.5300000000000002}\",\n",
       " \"{'amount': 14.57}\",\n",
       " \"{'amount': 24.26}\",\n",
       " \"{'amount': 16.76}\",\n",
       " \"{'amount': 2.06}\",\n",
       " \"{'amount': 6.13}\",\n",
       " \"{'amount': 11.1}\",\n",
       " \"{'amount': 16.32}\",\n",
       " \"{'amount': 0.16}\",\n",
       " \"{'amount': 3.8}\",\n",
       " \"{'amount': 10.96}\",\n",
       " \"{'amount': 0.7000000000000001}\",\n",
       " \"{'amount': 3.18}\",\n",
       " \"{'amount': 4.32}\",\n",
       " \"{'amount': 37.34}\",\n",
       " \"{'amount': 27.55}\",\n",
       " \"{'amount': 15.22}\",\n",
       " \"{'amount': 0.62}\",\n",
       " \"{'amount': 13.67}\",\n",
       " \"{'amount': 1.42}\",\n",
       " \"{'amount': 23.03}\",\n",
       " \"{'amount': 22.19}\",\n",
       " \"{'amount': 8.1}\",\n",
       " \"{'amount': 1.34}\",\n",
       " \"{'amount': 5.75}\",\n",
       " \"{'amount': 0.30000000000000004}\",\n",
       " \"{'amount': 4.35}\",\n",
       " \"{'amount': 22.37}\",\n",
       " \"{'amount': 4.34}\",\n",
       " \"{'amount': 9.91}\",\n",
       " \"{'amount': 25.79}\",\n",
       " \"{'amount': 20.18}\",\n",
       " \"{'amount': 12.06}\",\n",
       " \"{'amount': 7.58}\",\n",
       " \"{'amount': 17.89}\",\n",
       " \"{'amount': 34.01}\",\n",
       " \"{'amount': 16.38}\",\n",
       " \"{'amount': 23.08}\",\n",
       " \"{'amount': 10.25}\",\n",
       " \"{'amount': 1.8}\",\n",
       " \"{'amount': 21.97}\",\n",
       " \"{'amount': 16.62}\",\n",
       " \"{'amount': 32.61}\",\n",
       " \"{'amount': 34.88}\",\n",
       " \"{'amount': 7.48}\",\n",
       " \"{'amount': 8.83}\",\n",
       " \"{'amount': 10.71}\",\n",
       " \"{'amount': 2.33}\",\n",
       " \"{'amount': 10.24}\",\n",
       " \"{'amount': 0.19}\",\n",
       " \"{'amount': 18.74}\",\n",
       " \"{'amount': 25.96}\",\n",
       " \"{'amount': 1.78}\",\n",
       " \"{'amount': 8.11}\",\n",
       " \"{'amount': 26.81}\",\n",
       " \"{'amount': 2.38}\",\n",
       " \"{'amount': 1.09}\",\n",
       " \"{'amount': 11.81}\",\n",
       " \"{'amount': 16.92}\",\n",
       " \"{'amount': 8.71}\",\n",
       " \"{'amount': 12.36}\",\n",
       " \"{'amount': 6.72}\",\n",
       " \"{'amount': 17.64}\",\n",
       " \"{'amount': 3.15}\",\n",
       " \"{'amount': 4.93}\",\n",
       " \"{'amount': 0.51}\",\n",
       " \"{'amount': 18.92}\",\n",
       " \"{'amount': 19.38}\",\n",
       " \"{'amount': 5.93}\",\n",
       " \"{'amount': 2.19}\",\n",
       " \"{'amount': 19.79}\",\n",
       " \"{'amount': 1.88}\",\n",
       " \"{'amount': 0.2}\",\n",
       " \"{'amount': 17.12}\",\n",
       " \"{'amount': 16.68}\",\n",
       " \"{'amount': 14.51}\",\n",
       " \"{'amount': 18.6}\",\n",
       " \"{'amount': 45.09}\",\n",
       " \"{'amount': 19.01}\",\n",
       " \"{'amount': 16.51}\",\n",
       " \"{'amount': 11.46}\",\n",
       " \"{'amount': 25.14}\",\n",
       " \"{'amount': 0.13}\",\n",
       " \"{'amount': 17.56}\",\n",
       " \"{'amount': 2.66}\",\n",
       " \"{'amount': 16.29}\",\n",
       " \"{'amount': 1.11}\",\n",
       " \"{'amount': 0.11}\",\n",
       " \"{'amount': 28.97}\",\n",
       " \"{'amount': 20.5}\",\n",
       " \"{'amount': 0.06}\",\n",
       " \"{'amount': 3.33}\",\n",
       " \"{'amount': 14.07}\",\n",
       " \"{'amount': 7.71}\",\n",
       " \"{'amount': 7.55}\",\n",
       " \"{'amount': 3.29}\",\n",
       " \"{'amount': 1.27}\",\n",
       " \"{'amount': 10.8}\",\n",
       " \"{'amount': 11.03}\",\n",
       " \"{'amount': 11.09}\",\n",
       " \"{'amount': 5.85}\",\n",
       " \"{'amount': 21.02}\",\n",
       " \"{'amount': 28.16}\",\n",
       " \"{'amount': 13.03}\",\n",
       " \"{'amount': 0.74}\",\n",
       " \"{'amount': 8.58}\",\n",
       " \"{'amount': 11.57}\",\n",
       " \"{'amount': 9.07}\",\n",
       " \"{'amount': 9.81}\",\n",
       " \"{'amount': 1.6600000000000001}\",\n",
       " \"{'amount': 20.47}\",\n",
       " \"{'amount': 16.6}\",\n",
       " \"{'amount': 8.97}\",\n",
       " \"{'amount': 4.14}\",\n",
       " \"{'amount': 25.37}\",\n",
       " \"{'amount': 21.46}\",\n",
       " \"{'amount': 13.1}\",\n",
       " \"{'amount': 2.15}\",\n",
       " \"{'amount': 22.92}\",\n",
       " \"{'amount': 2.69}\",\n",
       " \"{'amount': 3.96}\",\n",
       " \"{'amount': 34.73}\",\n",
       " \"{'amount': 27.52}\",\n",
       " \"{'amount': 23.51}\",\n",
       " \"{'amount': 12.54}\",\n",
       " \"{'amount': 1.57}\",\n",
       " \"{'amount': 5.15}\",\n",
       " \"{'amount': 16.3}\",\n",
       " \"{'amount': 16.58}\",\n",
       " \"{'amount': 10.81}\",\n",
       " \"{'amount': 2.35}\",\n",
       " \"{'amount': 14.09}\",\n",
       " \"{'amount': 5.36}\",\n",
       " \"{'amount': 17.36}\",\n",
       " \"{'amount': 5.29}\",\n",
       " \"{'amount': 13.13}\",\n",
       " \"{'amount': 6.14}\",\n",
       " \"{'amount': 1.87}\",\n",
       " \"{'amount': 2.61}\",\n",
       " \"{'amount': 28.82}\",\n",
       " \"{'amount': 5.48}\",\n",
       " \"{'amount': 14.73}\",\n",
       " \"{'amount': 18.39}\",\n",
       " \"{'amount': 6.25}\",\n",
       " \"{'amount': 40.06}\",\n",
       " \"{'amount': 4.55}\",\n",
       " \"{'amount': 10.02}\",\n",
       " \"{'amount': 9.12}\",\n",
       " \"{'amount': 16.89}\",\n",
       " \"{'amount': 1.67}\",\n",
       " \"{'amount': 21.31}\",\n",
       " \"{'amount': 12.98}\",\n",
       " \"{'amount': 22.73}\",\n",
       " \"{'amount': 19.68}\",\n",
       " \"{'amount': 10.99}\",\n",
       " \"{'amount': 13.18}\",\n",
       " \"{'amount': 13.48}\",\n",
       " \"{'amount': 0.38}\",\n",
       " \"{'amount': 7.44}\",\n",
       " \"{'amount': 2.36}\",\n",
       " \"{'amount': 8.51}\",\n",
       " \"{'amount': 11.26}\",\n",
       " \"{'amount': 1.05}\",\n",
       " \"{'amount': 8.44}\",\n",
       " \"{'amount': 20.27}\",\n",
       " \"{'amount': 7.99}\",\n",
       " \"{'amount': 11.4}\",\n",
       " \"{'amount': 0.9}\",\n",
       " \"{'amount': 3.79}\",\n",
       " \"{'amount': 21.7}\",\n",
       " \"{'amount': 12.42}\",\n",
       " \"{'amount': 3.81}\",\n",
       " \"{'amount': 7.12}\",\n",
       " \"{'amount': 26.15}\",\n",
       " \"{'amount': 2.91}\",\n",
       " \"{'amount': 4.13}\",\n",
       " \"{'amount': 4.36}\",\n",
       " \"{'amount': 7.72}\",\n",
       " \"{'amount': 4.51}\",\n",
       " \"{'amount': 2.79}\",\n",
       " \"{'amount': 8.75}\",\n",
       " \"{'amount': 16.91}\",\n",
       " \"{'amount': 17.99}\",\n",
       " \"{'amount': 3.37}\",\n",
       " \"{'amount': 3.87}\",\n",
       " \"{'amount': 29.37}\",\n",
       " \"{'amount': 9.49}\",\n",
       " \"{'amount': 24.01}\",\n",
       " \"{'amount': 17.76}\",\n",
       " \"{'amount': 2.42}\",\n",
       " \"{'amount': 1.3}\",\n",
       " \"{'amount': 0.36}\",\n",
       " \"{'amount': 30.51}\",\n",
       " \"{'amount': 12.41}\",\n",
       " \"{'amount': 0.47000000000000003}\",\n",
       " \"{'amount': 6.67}\",\n",
       " \"{'amount': 27.23}\",\n",
       " \"{'amount': 3.47}\",\n",
       " \"{'amount': 1.47}\",\n",
       " \"{'amount': 33.74}\",\n",
       " \"{'amount': 6.05}\",\n",
       " \"{'amount': 1.37}\",\n",
       " \"{'amount': 0.89}\",\n",
       " \"{'amount': 1.49}\",\n",
       " \"{'amount': 16.78}\",\n",
       " \"{'amount': 14.88}\",\n",
       " \"{'amount': 17.48}\",\n",
       " \"{'amount': 2.62}\",\n",
       " \"{'amount': 13.06}\",\n",
       " \"{'amount': 9.82}\",\n",
       " \"{'amount': 6.83}\",\n",
       " \"{'amount': 4.37}\",\n",
       " \"{'amount': 30.2}\",\n",
       " \"{'amount': 2.4}\",\n",
       " \"{'amount': 1.98}\",\n",
       " \"{'amount': 16.87}\",\n",
       " \"{'amount': 0.98}\",\n",
       " \"{'amount': 3.85}\",\n",
       " \"{'amount': 11.71}\",\n",
       " \"{'amount': 19.74}\",\n",
       " \"{'amount': 1.63}\",\n",
       " \"{'amount': 3.8200000000000003}\",\n",
       " \"{'amount': 4.3}\",\n",
       " \"{'amount': 4.68}\",\n",
       " \"{'amount': 0.65}\",\n",
       " \"{'amount': 14.25}\",\n",
       " \"{'amount': 4.23}\",\n",
       " \"{'amount': 17.43}\",\n",
       " \"{'amount': 16.1}\",\n",
       " \"{'amount': 8.89}\",\n",
       " \"{'amount': 2.29}\",\n",
       " \"{'amount': 26.8}\",\n",
       " \"{'amount': 2.07}\",\n",
       " \"{'amount': 23.5}\",\n",
       " \"{'amount': 2.76}\",\n",
       " \"{'amount': 21.71}\",\n",
       " \"{'amount': 6.99}\",\n",
       " \"{'amount': 2.48}\",\n",
       " \"{'amount': 23.92}\",\n",
       " \"{'amount': 0.63}\",\n",
       " \"{'amount': 8.07}\",\n",
       " \"{'amount': 17.95}\",\n",
       " \"{'amount': 1.29}\",\n",
       " \"{'amount': 4.06}\",\n",
       " \"{'amount': 12.76}\",\n",
       " \"{'amount': 7.01}\",\n",
       " \"{'amount': 17.7}\",\n",
       " \"{'amount': 7.75}\",\n",
       " \"{'amount': 2.87}\",\n",
       " \"{'amount': 10.6}\",\n",
       " \"{'amount': 27.49}\",\n",
       " \"{'amount': 15.71}\",\n",
       " \"{'amount': 28.5}\",\n",
       " \"{'amount': 0.96}\",\n",
       " \"{'amount': 19.86}\",\n",
       " \"{'amount': 11.37}\",\n",
       " \"{'amount': 9.62}\",\n",
       " \"{'amount': 27.71}\",\n",
       " \"{'amount': 2.23}\",\n",
       " \"{'amount': 4.9}\",\n",
       " \"{'amount': 37.92}\",\n",
       " \"{'amount': 1.8900000000000001}\",\n",
       " \"{'amount': 10.07}\",\n",
       " \"{'amount': 30.33}\",\n",
       " \"{'amount': 20.74}\",\n",
       " \"{'amount': 3.54}\",\n",
       " \"{'amount': 2.73}\",\n",
       " \"{'amount': 6.78}\",\n",
       " \"{'amount': 29.99}\",\n",
       " \"{'amount': 0.71}\",\n",
       " \"{'amount': 18.69}\",\n",
       " \"{'amount': 0.48}\",\n",
       " \"{'amount': 27.97}\",\n",
       " \"{'amount': 9.09}\",\n",
       " \"{'amount': 3.11}\",\n",
       " \"{'amount': 15.0}\",\n",
       " \"{'amount': 4.18}\",\n",
       " \"{'amount': 5.49}\",\n",
       " \"{'amount': 12.28}\",\n",
       " \"{'amount': 19.9}\",\n",
       " \"{'amount': 15.7}\",\n",
       " \"{'amount': 6.37}\",\n",
       " \"{'amount': 12.05}\",\n",
       " \"{'amount': 14.67}\",\n",
       " \"{'amount': 37.12}\",\n",
       " \"{'amount': 26.68}\",\n",
       " \"{'amount': 2.51}\",\n",
       " \"{'amount': 12.81}\",\n",
       " \"{'amount': 0.41000000000000003}\",\n",
       " \"{'amount': 12.87}\",\n",
       " \"{'amount': 4.78}\",\n",
       " \"{'amount': 17.39}\",\n",
       " \"{'amount': 6.4}\",\n",
       " \"{'amount': 21.22}\",\n",
       " \"{'amount': 1.04}\",\n",
       " \"{'amount': 27.14}\",\n",
       " \"{'amount': 14.58}\",\n",
       " \"{'amount': 5.4}\",\n",
       " \"{'amount': 25.18}\",\n",
       " \"{'amount': 4.46}\",\n",
       " \"{'amount': 12.59}\",\n",
       " \"{'amount': 0.18}\",\n",
       " \"{'amount': 15.15}\",\n",
       " \"{'amount': 13.26}\",\n",
       " \"{'amount': 3.48}\",\n",
       " \"{'amount': 1.18}\",\n",
       " \"{'amount': 13.53}\",\n",
       " \"{'amount': 5.88}\",\n",
       " \"{'amount': 38.34}\",\n",
       " \"{'amount': 2.12}\",\n",
       " \"{'amount': 6.85}\",\n",
       " \"{'amount': 23.9}\",\n",
       " \"{'amount': 2.5300000000000002}\",\n",
       " \"{'amount': 24.64}\",\n",
       " \"{'amount': 16.05}\",\n",
       " \"{'amount': 0.61}\",\n",
       " \"{'amount': 1.44}\",\n",
       " \"{'amount': 1.1400000000000001}\",\n",
       " \"{'amount': 14.43}\",\n",
       " \"{'amount': 13.16}\",\n",
       " \"{'amount': 1.72}\",\n",
       " \"{'amount': 21.11}\",\n",
       " \"{'amount': 1.75}\",\n",
       " \"{'amount': 8.64}\",\n",
       " \"{'amount': 24.97}\",\n",
       " \"{'amount': 2.7800000000000002}\",\n",
       " \"{'amount': 21.65}\",\n",
       " \"{'amount': 6.88}\",\n",
       " \"{'amount': 3.13}\",\n",
       " \"{'amount': 19.54}\",\n",
       " \"{'amount': 3.32}\",\n",
       " \"{'amount': 21.72}\",\n",
       " \"{'amount': 15.28}\",\n",
       " \"{'amount': 9.39}\",\n",
       " \"{'amount': 27.69}\",\n",
       " \"{'amount': 0.73}\",\n",
       " \"{'amount': 13.45}\",\n",
       " \"{'amount': 11.66}\",\n",
       " \"{'amount': 28.38}\",\n",
       " \"{'amount': 28.91}\",\n",
       " \"{'amount': 15.04}\",\n",
       " \"{'amount': 21.9}\",\n",
       " \"{'amount': 10.76}\",\n",
       " \"{'amount': 16.56}\",\n",
       " \"{'amount': 11.36}\",\n",
       " \"{'amount': 18.37}\",\n",
       " \"{'amount': 16.73}\",\n",
       " \"{'amount': 44.27}\",\n",
       " \"{'amount': 19.05}\",\n",
       " \"{'amount': 13.2}\",\n",
       " \"{'amount': 4.98}\",\n",
       " \"{'amount': 5.87}\",\n",
       " \"{'amount': 3.46}\",\n",
       " \"{'amount': 5.38}\",\n",
       " \"{'amount': 19.12}\",\n",
       " \"{'amount': 17.42}\",\n",
       " \"{'amount': 8.25}\",\n",
       " \"{'amount': 20.81}\",\n",
       " \"{'amount': 0.6900000000000001}\",\n",
       " \"{'amount': 20.95}\",\n",
       " \"{'amount': 1.9100000000000001}\",\n",
       " \"{'amount': 37.18}\",\n",
       " \"{'amount': 3.23}\",\n",
       " \"{'amount': 24.94}\",\n",
       " \"{'amount': 2.3}\",\n",
       " \"{'amount': 1.6}\",\n",
       " \"{'amount': 29.42}\",\n",
       " \"{'amount': 2.9699999999999998}\",\n",
       " \"{'amount': 11.11}\",\n",
       " \"{'amount': 13.56}\",\n",
       " \"{'amount': 27.31}\",\n",
       " \"{'amount': 24.27}\",\n",
       " \"{'amount': 0.08}\",\n",
       " \"{'amount': 0.33}\",\n",
       " \"{'amount': 33.67}\",\n",
       " \"{'amount': 4.87}\",\n",
       " \"{'amount': 15.64}\",\n",
       " \"{'amount': 1.45}\",\n",
       " \"{'amount': 15.35}\",\n",
       " \"{'amount': 16.18}\",\n",
       " \"{'amount': 19.46}\",\n",
       " \"{'amount': 0.43}\",\n",
       " \"{'amount': 7.83}\",\n",
       " \"{'amount': 1.62}\",\n",
       " \"{'amount': 9.48}\",\n",
       " \"{'amount': 4.33}\",\n",
       " \"{'amount': 3.04}\",\n",
       " \"{'amount': 27.38}\",\n",
       " \"{'amount': 11.93}\",\n",
       " \"{'amount': 13.19}\",\n",
       " \"{'amount': 26.21}\",\n",
       " \"{'amount': 0.6000000000000001}\",\n",
       " \"{'amount': 17.07}\",\n",
       " \"{'amount': 22.84}\",\n",
       " \"{'amount': 1.12}\",\n",
       " \"{'amount': 4.01}\",\n",
       " \"{'amount': 24.34}\",\n",
       " \"{'amount': 9.67}\",\n",
       " \"{'amount': 15.82}\",\n",
       " \"{'amount': 1.76}\",\n",
       " \"{'amount': 15.47}\",\n",
       " \"{'amount': 7.59}\",\n",
       " \"{'amount': 17.04}\",\n",
       " \"{'amount': 14.89}\",\n",
       " \"{'amount': 10.65}\",\n",
       " \"{'amount': 0.55}\",\n",
       " \"{'amount': 43.26}\",\n",
       " \"{'amount': 30.15}\",\n",
       " \"{'amount': 11.05}\",\n",
       " \"{'amount': 18.82}\",\n",
       " \"{'amount': 195.24}\",\n",
       " \"{'amount': 17.5}\",\n",
       " \"{'amount': 4.07}\",\n",
       " \"{'amount': 8.8}\",\n",
       " \"{'amount': 4.31}\",\n",
       " \"{'amount': 3.12}\",\n",
       " \"{'amount': 19.88}\",\n",
       " \"{'amount': 2.63}\",\n",
       " \"{'amount': 7.32}\",\n",
       " \"{'amount': 24.25}\",\n",
       " \"{'amount': 23.27}\",\n",
       " \"{'amount': 6.97}\",\n",
       " \"{'amount': 14.4}\",\n",
       " \"{'amount': 27.87}\",\n",
       " \"{'amount': 17.78}\",\n",
       " \"{'amount': 16.03}\",\n",
       " \"{'amount': 8.39}\",\n",
       " \"{'amount': 7.62}\",\n",
       " \"{'amount': 18.46}\",\n",
       " \"{'amount': 14.06}\",\n",
       " \"{'amount': 0.26}\",\n",
       " \"{'amount': 24.67}\",\n",
       " \"{'amount': 7.94}\",\n",
       " \"{'amount': 0.17}\",\n",
       " \"{'amount': 1.6099999999999999}\",\n",
       " \"{'amount': 12.89}\",\n",
       " \"{'amount': 18.26}\",\n",
       " \"{'amount': 11.72}\",\n",
       " \"{'amount': 2.55}\",\n",
       " \"{'amount': 4.54}\",\n",
       " \"{'amount': 1.43}\",\n",
       " \"{'amount': 21.53}\",\n",
       " \"{'amount': 17.86}\",\n",
       " \"{'amount': 25.34}\",\n",
       " \"{'amount': 5.69}\",\n",
       " \"{'amount': 23.33}\",\n",
       " \"{'amount': 26.76}\",\n",
       " \"{'amount': 5.34}\",\n",
       " \"{'amount': 1.03}\",\n",
       " \"{'amount': 21.51}\",\n",
       " \"{'amount': 0.29}\",\n",
       " \"{'amount': 12.52}\",\n",
       " \"{'amount': 1.53}\",\n",
       " \"{'amount': 5.39}\",\n",
       " \"{'amount': 8.72}\",\n",
       " \"{'amount': 15.53}\",\n",
       " \"{'amount': 24.81}\",\n",
       " \"{'amount': 15.11}\",\n",
       " \"{'amount': 38.59}\",\n",
       " \"{'amount': 0.07}\",\n",
       " \"{'amount': 1.77}\",\n",
       " \"{'amount': 4.63}\",\n",
       " \"{'amount': 7.5600000000000005}\",\n",
       " \"{'amount': 11.21}\",\n",
       " \"{'amount': 8.24}\",\n",
       " \"{'amount': 23.09}\",\n",
       " \"{'amount': 28.03}\",\n",
       " \"{'amount': 0.8200000000000001}\",\n",
       " \"{'amount': 29.72}\",\n",
       " \"{'amount': 4.16}\",\n",
       " \"{'amount': 18.83}\",\n",
       " \"{'amount': 1.8399999999999999}\",\n",
       " \"{'amount': 1.31}\",\n",
       " \"{'amount': 6.33}\",\n",
       " \"{'amount': 35.62}\",\n",
       " \"{'amount': 24.89}\",\n",
       " \"{'amount': 14.24}\",\n",
       " \"{'amount': 23.06}\",\n",
       " \"{'amount': 5.18}\",\n",
       " \"{'amount': 15.21}\",\n",
       " \"{'amount': 8.21}\",\n",
       " \"{'amount': 16.46}\",\n",
       " \"{'amount': 6.77}\",\n",
       " \"{'amount': 20.59}\",\n",
       " \"{'amount': 35.02}\",\n",
       " \"{'amount': 0.25}\",\n",
       " \"{'amount': 4.72}\",\n",
       " \"{'amount': 26.4}\",\n",
       " \"{'amount': 6.09}\",\n",
       " \"{'amount': 3.25}\",\n",
       " \"{'amount': 6.07}\",\n",
       " \"{'amount': 39.71}\",\n",
       " \"{'amount': 25.39}\",\n",
       " \"{'amount': 30.93}\",\n",
       " \"{'amount': 25.91}\",\n",
       " \"{'amount': 8.69}\",\n",
       " \"{'amount': 13.35}\",\n",
       " \"{'amount': 13.99}\",\n",
       " \"{'amount': 14.36}\",\n",
       " \"{'amount': 4.41}\",\n",
       " \"{'amount': 19.33}\",\n",
       " \"{'amount': 1.83}\",\n",
       " \"{'amount': 28.59}\",\n",
       " \"{'amount': 23.76}\",\n",
       " \"{'amount': 11.25}\",\n",
       " \"{'amount': 14.54}\",\n",
       " \"{'amount': 5.8}\",\n",
       " \"{'amount': 34.47}\",\n",
       " \"{'amount': 23.16}\",\n",
       " \"{'amount': 3.77}\",\n",
       " \"{'amount': 0.64}\",\n",
       " \"{'amount': 3.43}\",\n",
       " \"{'amount': 18.14}\",\n",
       " \"{'amount': 1.07}\",\n",
       " \"{'amount': 14.26}\",\n",
       " \"{'amount': 7.67}\",\n",
       " \"{'amount': 17.44}\",\n",
       " \"{'amount': 11.39}\",\n",
       " \"{'amount': 40.67}\",\n",
       " \"{'amount': 2.25}\",\n",
       " \"{'amount': 4.21}\",\n",
       " \"{'amount': 28.53}\",\n",
       " \"{'amount': 8.6}\",\n",
       " \"{'amount': 3.14}\",\n",
       " \"{'amount': 22.11}\",\n",
       " \"{'amount': 3.52}\",\n",
       " \"{'amount': 14.38}\",\n",
       " \"{'amount': 13.25}\",\n",
       " \"{'amount': 19.85}\",\n",
       " \"{'amount': 4.96}\",\n",
       " \"{'amount': 5.17}\",\n",
       " \"{'amount': 16.75}\",\n",
       " \"{'amount': 6.79}\",\n",
       " \"{'amount': 0.66}\",\n",
       " \"{'amount': 14.6}\",\n",
       " \"{'amount': 22.76}\",\n",
       " \"{'amount': 20.23}\",\n",
       " \"{'amount': 4.11}\",\n",
       " \"{'amount': 6.74}\",\n",
       " \"{'amount': 15.26}\",\n",
       " \"{'amount': 8.12}\",\n",
       " \"{'amount': 15.32}\",\n",
       " \"{'amount': 20.17}\",\n",
       " \"{'amount': 31.7}\",\n",
       " \"{'amount': 17.49}\",\n",
       " \"{'amount': 14.45}\",\n",
       " \"{'amount': 3.59}\",\n",
       " \"{'amount': 3.68}\",\n",
       " \"{'amount': 9.97}\",\n",
       " \"{'amount': 23.38}\",\n",
       " \"{'amount': 31.23}\",\n",
       " \"{'amount': 27.41}\",\n",
       " \"{'amount': 25.62}\",\n",
       " \"{'amount': 42.36}\",\n",
       " \"{'amount': 23.71}\",\n",
       " \"{'amount': 2.98}\",\n",
       " \"{'amount': 0.56}\",\n",
       " \"{'amount': 2.2}\",\n",
       " \"{'amount': 18.36}\",\n",
       " \"{'amount': 17.3}\",\n",
       " \"{'amount': 37.07}\",\n",
       " \"{'amount': 1.9500000000000002}\",\n",
       " \"{'amount': 14.7}\",\n",
       " \"{'amount': 3.76}\",\n",
       " \"{'amount': 13.9}\",\n",
       " \"{'amount': 25.08}\",\n",
       " \"{'amount': 5.65}\",\n",
       " \"{'amount': 8.34}\",\n",
       " \"{'amount': 3.03}\",\n",
       " \"{'amount': 5.79}\",\n",
       " \"{'amount': 8.74}\",\n",
       " \"{'amount': 23.77}\",\n",
       " \"{'amount': 31.89}\",\n",
       " \"{'amount': 20.06}\",\n",
       " \"{'amount': 22.51}\",\n",
       " \"{'amount': 1.97}\",\n",
       " \"{'amount': 3.91}\",\n",
       " \"{'amount': 10.74}\",\n",
       " \"{'amount': 17.08}\",\n",
       " \"{'amount': 1.17}\",\n",
       " \"{'amount': 4.71}\",\n",
       " \"{'amount': 9.53}\",\n",
       " \"{'amount': 14.71}\",\n",
       " \"{'amount': 16.15}\",\n",
       " \"{'amount': 25.65}\",\n",
       " \"{'amount': 5.59}\",\n",
       " \"{'amount': 11.49}\",\n",
       " \"{'amount': 8.13}\",\n",
       " \"{'amount': 11.44}\",\n",
       " \"{'amount': 25.57}\",\n",
       " \"{'amount': 11.98}\",\n",
       " \"{'amount': 3.98}\",\n",
       " \"{'amount': 6.87}\",\n",
       " \"{'amount': 20.98}\",\n",
       " \"{'amount': 2.93}\",\n",
       " \"{'amount': 6.91}\",\n",
       " \"{'amount': 44.54}\",\n",
       " \"{'amount': 23.22}\",\n",
       " \"{'amount': 1.73}\",\n",
       " \"{'amount': 14.22}\",\n",
       " \"{'amount': 5.25}\",\n",
       " \"{'amount': 1.71}\",\n",
       " \"{'amount': 1.9}\",\n",
       " \"{'amount': 4.74}\",\n",
       " \"{'amount': 2.7199999999999998}\",\n",
       " \"{'amount': 2.13}\",\n",
       " \"{'amount': 20.71}\",\n",
       " \"{'amount': 16.43}\",\n",
       " \"{'amount': 11.2}\",\n",
       " \"{'amount': 7.36}\",\n",
       " \"{'amount': 30.91}\",\n",
       " \"{'amount': 12.5}\",\n",
       " \"{'amount': 33.24}\",\n",
       " \"{'amount': 21.8}\",\n",
       " \"{'amount': 14.21}\",\n",
       " \"{'amount': 8.77}\",\n",
       " \"{'amount': 3.5700000000000003}\",\n",
       " \"{'amount': 22.48}\",\n",
       " \"{'amount': 30.84}\",\n",
       " \"{'amount': 10.93}\",\n",
       " \"{'amount': 18.5}\",\n",
       " \"{'amount': 3.2}\",\n",
       " \"{'amount': 13.73}\",\n",
       " \"{'amount': 9.8}\",\n",
       " \"{'amount': 3.86}\",\n",
       " \"{'amount': 19.43}\",\n",
       " \"{'amount': 5.51}\",\n",
       " \"{'amount': 1.08}\",\n",
       " \"{'amount': 12.02}\",\n",
       " \"{'amount': 7.8}\",\n",
       " \"{'amount': 7.69}\",\n",
       " \"{'amount': 1.48}\",\n",
       " \"{'amount': 0.28}\",\n",
       " \"{'amount': 19.09}\",\n",
       " \"{'amount': 7.11}\",\n",
       " \"{'amount': 19.13}\",\n",
       " \"{'amount': 26.62}\",\n",
       " \"{'amount': 30.41}\",\n",
       " \"{'amount': 14.75}\",\n",
       " \"{'amount': 9.36}\",\n",
       " \"{'amount': 12.18}\",\n",
       " \"{'amount': 14.9}\",\n",
       " \"{'amount': 22.55}\",\n",
       " \"{'amount': 28.41}\",\n",
       " \"{'amount': 13.88}\",\n",
       " \"{'amount': 9.41}\",\n",
       " \"{'amount': 26.69}\",\n",
       " \"{'amount': 22.17}\",\n",
       " \"{'amount': 15.65}\",\n",
       " \"{'amount': 34.51}\",\n",
       " \"{'amount': 17.22}\",\n",
       " \"{'amount': 10.75}\",\n",
       " \"{'amount': 16.84}\",\n",
       " \"{'amount': 27.39}\",\n",
       " \"{'amount': 13.78}\",\n",
       " \"{'amount': 28.52}\",\n",
       " \"{'amount': 11.92}\",\n",
       " \"{'amount': 26.18}\",\n",
       " \"{'amount': 9.29}\",\n",
       " \"{'amount': 10.32}\",\n",
       " \"{'amount': 8.4}\",\n",
       " \"{'amount': 18.91}\",\n",
       " \"{'amount': 10.38}\",\n",
       " \"{'amount': 15.85}\",\n",
       " \"{'amount': 12.33}\",\n",
       " \"{'amount': 26.45}\",\n",
       " \"{'amount': 36.06}\",\n",
       " \"{'amount': 4.1}\",\n",
       " \"{'amount': 43.42}\",\n",
       " \"{'amount': 15.95}\",\n",
       " \"{'amount': 10.3}\",\n",
       " \"{'amount': 30.78}\",\n",
       " \"{'amount': 28.78}\",\n",
       " \"{'amount': 16.14}\",\n",
       " \"{'amount': 4.24}\",\n",
       " \"{'amount': 3.19}\",\n",
       " \"{'amount': 19.5}\",\n",
       " \"{'amount': 33.66}\",\n",
       " \"{'amount': 1.55}\",\n",
       " \"{'amount': 26.17}\",\n",
       " \"{'amount': 1.5899999999999999}\",\n",
       " \"{'amount': 15.67}\",\n",
       " \"{'amount': 14.85}\",\n",
       " \"{'amount': 16.7}\",\n",
       " \"{'amount': 21.35}\",\n",
       " \"{'amount': 13.47}\",\n",
       " \"{'amount': 3.9699999999999998}\",\n",
       " \"{'amount': 20.3}\",\n",
       " \"{'amount': 4.38}\",\n",
       " \"{'amount': 12.57}\",\n",
       " \"{'amount': 0.99}\",\n",
       " \"{'amount': 0.46}\",\n",
       " \"{'amount': 18.17}\",\n",
       " \"{'amount': 14.84}\",\n",
       " \"{'amount': 17.01}\",\n",
       " \"{'amount': 3.51}\",\n",
       " \"{'amount': 3.61}\",\n",
       " \"{'amount': 14.19}\",\n",
       " \"{'amount': 2.77}\",\n",
       " \"{'amount': 22.53}\",\n",
       " \"{'amount': 10.01}\",\n",
       " \"{'amount': 26.97}\",\n",
       " \"{'amount': 0.81}\",\n",
       " \"{'amount': 17.62}\",\n",
       " \"{'amount': 21.26}\",\n",
       " \"{'amount': 1.3599999999999999}\",\n",
       " \"{'amount': 25.93}\",\n",
       " \"{'amount': 20.19}\",\n",
       " \"{'amount': 29.98}\",\n",
       " \"{'amount': 27.45}\",\n",
       " \"{'amount': 2.96}\",\n",
       " \"{'amount': 16.21}\",\n",
       " \"{'amount': 10.4}\",\n",
       " \"{'amount': 12.64}\",\n",
       " \"{'amount': 1.81}\",\n",
       " \"{'amount': 12.26}\",\n",
       " \"{'amount': 5.89}\",\n",
       " \"{'amount': 2.22}\",\n",
       " \"{'amount': 26.32}\",\n",
       " \"{'amount': 13.0}\",\n",
       " \"{'amount': 5.1}\",\n",
       " \"{'amount': 17.81}\",\n",
       " \"{'amount': 21.39}\",\n",
       " \"{'amount': 5.14}\",\n",
       " \"{'amount': 18.22}\",\n",
       " \"{'amount': 7.98}\",\n",
       " \"{'amount': 9.75}\",\n",
       " \"{'amount': 41.58}\",\n",
       " \"{'amount': 3.17}\",\n",
       " \"{'amount': 29.66}\",\n",
       " \"{'amount': 4.62}\",\n",
       " \"{'amount': 7.17}\",\n",
       " \"{'amount': 9.65}\",\n",
       " \"{'amount': 0.68}\",\n",
       " \"{'amount': 7.63}\",\n",
       " \"{'amount': 3.93}\",\n",
       " \"{'amount': 2.01}\",\n",
       " \"{'amount': 40.61}\",\n",
       " \"{'amount': 6.16}\",\n",
       " \"{'amount': 12.73}\",\n",
       " \"{'amount': 15.86}\",\n",
       " \"{'amount': 4.53}\",\n",
       " \"{'amount': 22.33}\",\n",
       " \"{'amount': 5.41}\",\n",
       " \"{'amount': 2.8200000000000003}\",\n",
       " \"{'amount': 5.52}\",\n",
       " \"{'amount': 21.2}\",\n",
       " \"{'amount': 17.32}\",\n",
       " \"{'amount': 23.68}\",\n",
       " \"{'amount': 18.72}\",\n",
       " \"{'amount': 1.25}\",\n",
       " \"{'amount': 11.08}\",\n",
       " \"{'amount': 12.86}\",\n",
       " \"{'amount': 34.53}\",\n",
       " \"{'amount': 0.42}\",\n",
       " \"{'amount': 19.03}\",\n",
       " \"{'amount': 44.14}\",\n",
       " \"{'amount': 13.79}\",\n",
       " \"{'amount': 3.39}\",\n",
       " \"{'amount': 10.23}\",\n",
       " \"{'amount': 22.81}\",\n",
       " \"{'amount': 0.5}\",\n",
       " \"{'amount': 11.97}\",\n",
       " \"{'amount': 3.71}\",\n",
       " \"{'amount': 6.71}\",\n",
       " \"{'amount': 1.96}\",\n",
       " \"{'amount': 24.09}\",\n",
       " \"{'amount': 7.28}\",\n",
       " \"{'amount': 14.32}\",\n",
       " \"{'amount': 10.46}\",\n",
       " \"{'amount': 22.71}\",\n",
       " \"{'amount': 13.81}\",\n",
       " \"{'amount': 14.63}\",\n",
       " \"{'amount': 1.1}\",\n",
       " \"{'amount': 6.55}\",\n",
       " \"{'amount': 0.14}\",\n",
       " \"{'amount': 23.19}\",\n",
       " \"{'amount': 11.85}\",\n",
       " \"{'amount': 7.54}\",\n",
       " \"{'amount': 25.02}\",\n",
       " \"{'amount': 5.5600000000000005}\",\n",
       " \"{'amount': 5.74}\",\n",
       " \"{'amount': 10.33}\",\n",
       " \"{'amount': 5.82}\",\n",
       " \"{'amount': 8.82}\",\n",
       " \"{'amount': 28.64}\",\n",
       " \"{'amount': 3.16}\",\n",
       " \"{'amount': 4.5}\",\n",
       " \"{'amount': 7.26}\",\n",
       " \"{'amount': 1.52}\",\n",
       " \"{'amount': 22.89}\",\n",
       " \"{'amount': 6.58}\",\n",
       " \"{'amount': 6.8}\",\n",
       " \"{'amount': 20.38}\",\n",
       " \"{'amount': 2.56}\",\n",
       " \"{'amount': 30.35}\",\n",
       " \"{'amount': 5.9}\",\n",
       " \"{'amount': 4.86}\",\n",
       " \"{'amount': 16.48}\",\n",
       " \"{'amount': 23.93}\",\n",
       " \"{'amount': 2.45}\",\n",
       " \"{'amount': 28.9}\",\n",
       " \"{'amount': 28.43}\",\n",
       " \"{'amount': 5.27}\",\n",
       " \"{'amount': 1.92}\",\n",
       " \"{'amount': 17.34}\",\n",
       " \"{'amount': 9.83}\",\n",
       " \"{'amount': 25.49}\",\n",
       " \"{'amount': 20.88}\",\n",
       " \"{'amount': 33.04}\",\n",
       " \"{'amount': 35.76}\",\n",
       " \"{'amount': 2.39}\",\n",
       " \"{'amount': 7.89}\",\n",
       " \"{'amount': 3.64}\",\n",
       " \"{'amount': 24.93}\",\n",
       " \"{'amount': 6.47}\",\n",
       " \"{'amount': 31.67}\",\n",
       " \"{'amount': 16.82}\",\n",
       " \"{'amount': 0.35000000000000003}\",\n",
       " \"{'amount': 6.12}\",\n",
       " \"{'amount': 92.36}\",\n",
       " \"{'amount': 41.83}\",\n",
       " \"{'amount': 8.28}\",\n",
       " \"{'amount': 12.68}\",\n",
       " \"{'amount': 22.1}\",\n",
       " \"{'amount': 4.52}\",\n",
       " \"{'amount': 0.1}\",\n",
       " \"{'amount': 25.54}\",\n",
       " \"{'amount': 0.49}\",\n",
       " \"{'amount': 6.63}\",\n",
       " \"{'amount': 16.4}\",\n",
       " \"{'amount': 29.04}\",\n",
       " \"{'amount': 17.75}\",\n",
       " \"{'amount': 14.41}\",\n",
       " \"{'amount': 24.78}\",\n",
       " \"{'amount': 5.44}\",\n",
       " \"{'amount': 2.99}\",\n",
       " \"{'amount': 32.71}\",\n",
       " \"{'amount': 15.49}\",\n",
       " \"{'amount': 0.91}\",\n",
       " \"{'amount': 21.47}\",\n",
       " \"{'amount': 21.81}\",\n",
       " \"{'amount': 12.03}\",\n",
       " \"{'amount': 18.33}\",\n",
       " \"{'amount': 8.31}\",\n",
       " \"{'amount': 11.84}\",\n",
       " \"{'amount': 2.17}\",\n",
       " \"{'amount': 2.71}\",\n",
       " \"{'amount': 26.91}\",\n",
       " \"{'amount': 19.3}\",\n",
       " \"{'amount': 1.4}\",\n",
       " \"{'amount': 3.1}\",\n",
       " \"{'amount': 13.04}\",\n",
       " \"{'amount': 6.45}\",\n",
       " \"{'amount': 27.12}\",\n",
       " \"{'amount': 33.06}\",\n",
       " \"{'amount': 17.35}\",\n",
       " \"{'amount': 1.5}\",\n",
       " \"{'amount': 26.19}\",\n",
       " \"{'amount': 11.19}\",\n",
       " \"{'amount': 24.48}\",\n",
       " \"{'amount': 26.25}\",\n",
       " \"{'amount': 6.34}\",\n",
       " \"{'amount': 27.66}\",\n",
       " \"{'amount': 3.7199999999999998}\",\n",
       " \"{'amount': 7.43}\",\n",
       " ...]"
      ]
     },
     "execution_count": 33,
     "metadata": {},
     "output_type": "execute_result"
    }
   ],
   "source": [
    "df_t[df_t['event'] == 'transaction']['value'].unique().tolist()"
   ]
  },
  {
   "cell_type": "markdown",
   "id": "4aa9048a",
   "metadata": {},
   "source": [
    "Let's check offers only"
   ]
  },
  {
   "cell_type": "code",
   "execution_count": 34,
   "id": "11ca5936",
   "metadata": {},
   "outputs": [
    {
     "data": {
      "text/plain": [
       "[\"{'offer id': '9b98b8c7a33c4b65b9aebfe6a799e6d9'}\",\n",
       " \"{'offer id': '0b1e1539f2cc45b7b9fa7c272da2e1d7'}\",\n",
       " \"{'offer id': '2906b810c7d4411798c6938adc9daaa5'}\",\n",
       " \"{'offer id': 'fafdcd668e3743c1bb461111dcafc2a4'}\",\n",
       " \"{'offer id': '4d5c57ea9a6940dd891ad53e9dbe8da0'}\",\n",
       " \"{'offer id': 'f19421c1d4aa40978ebb69ca19b0e20d'}\",\n",
       " \"{'offer id': '2298d6c36e964ae4a3e7e9706d1fb8c2'}\",\n",
       " \"{'offer id': '3f207df678b143eea3cee63160fa8bed'}\",\n",
       " \"{'offer id': 'ae264e3637204a6fb9bb56bc8210ddfd'}\",\n",
       " \"{'offer id': '5a8bc65990b245e5a138643cd4eb9837'}\",\n",
       " \"{'offer_id': '2906b810c7d4411798c6938adc9daaa5', 'reward': 2}\",\n",
       " \"{'offer_id': 'fafdcd668e3743c1bb461111dcafc2a4', 'reward': 2}\",\n",
       " \"{'offer_id': '9b98b8c7a33c4b65b9aebfe6a799e6d9', 'reward': 5}\",\n",
       " \"{'offer_id': 'ae264e3637204a6fb9bb56bc8210ddfd', 'reward': 10}\",\n",
       " \"{'offer_id': '4d5c57ea9a6940dd891ad53e9dbe8da0', 'reward': 10}\",\n",
       " \"{'offer_id': '2298d6c36e964ae4a3e7e9706d1fb8c2', 'reward': 3}\",\n",
       " \"{'offer_id': 'f19421c1d4aa40978ebb69ca19b0e20d', 'reward': 5}\",\n",
       " \"{'offer_id': '0b1e1539f2cc45b7b9fa7c272da2e1d7', 'reward': 5}\"]"
      ]
     },
     "execution_count": 34,
     "metadata": {},
     "output_type": "execute_result"
    }
   ],
   "source": [
    "df_t[df_t['event'] != 'transaction']['value'].unique().tolist()"
   ]
  },
  {
   "cell_type": "markdown",
   "id": "b8d80460",
   "metadata": {},
   "source": [
    "We can create features for each user to show thier behavior in making transactions and using the offers."
   ]
  },
  {
   "cell_type": "markdown",
   "id": "36517aec",
   "metadata": {},
   "source": [
    "## Data cleaning"
   ]
  },
  {
   "cell_type": "markdown",
   "id": "923d9d8d",
   "metadata": {},
   "source": [
    "### Profile data"
   ]
  },
  {
   "cell_type": "markdown",
   "id": "00613abc",
   "metadata": {},
   "source": [
    "We decided to have the following data cleaning steps:\n",
    "1. Deal with age over 100 y.o.\n",
    "2. Deal with null values in `income` and `gender` columns\n",
    "3. Change data type from int to datetime for `became_member_on` column"
   ]
  },
  {
   "cell_type": "markdown",
   "id": "15e5fa1e",
   "metadata": {},
   "source": [
    "#### Deal with age over 100 y.o. & Null values"
   ]
  },
  {
   "cell_type": "code",
   "execution_count": 35,
   "id": "07cbf6d8",
   "metadata": {},
   "outputs": [],
   "source": [
    "df_p = df_p[df_p['age'] <= 100]"
   ]
  },
  {
   "cell_type": "code",
   "execution_count": 36,
   "id": "d309bb3e",
   "metadata": {},
   "outputs": [
    {
     "name": "stdout",
     "output_type": "stream",
     "text": [
      "<class 'pandas.core.frame.DataFrame'>\n",
      "Int64Index: 14820 entries, 1 to 16999\n",
      "Data columns (total 5 columns):\n",
      " #   Column            Non-Null Count  Dtype  \n",
      "---  ------            --------------  -----  \n",
      " 0   gender            14820 non-null  object \n",
      " 1   age               14820 non-null  int64  \n",
      " 2   id                14820 non-null  object \n",
      " 3   became_member_on  14820 non-null  int64  \n",
      " 4   income            14820 non-null  float64\n",
      "dtypes: float64(1), int64(2), object(2)\n",
      "memory usage: 694.7+ KB\n"
     ]
    }
   ],
   "source": [
    "df_p.info()"
   ]
  },
  {
   "cell_type": "code",
   "execution_count": 37,
   "id": "1d438ff9",
   "metadata": {},
   "outputs": [
    {
     "data": {
      "text/plain": [
       "gender              0\n",
       "age                 0\n",
       "id                  0\n",
       "became_member_on    0\n",
       "income              0\n",
       "dtype: int64"
      ]
     },
     "execution_count": 37,
     "metadata": {},
     "output_type": "execute_result"
    }
   ],
   "source": [
    "df_p.isnull().sum()"
   ]
  },
  {
   "cell_type": "markdown",
   "id": "75100c71",
   "metadata": {},
   "source": [
    "If we remove age records for more than 100 y.o., there are no null records"
   ]
  },
  {
   "cell_type": "code",
   "execution_count": 38,
   "id": "c1ffb346",
   "metadata": {},
   "outputs": [
    {
     "data": {
      "text/html": [
       "<div>\n",
       "<style scoped>\n",
       "    .dataframe tbody tr th:only-of-type {\n",
       "        vertical-align: middle;\n",
       "    }\n",
       "\n",
       "    .dataframe tbody tr th {\n",
       "        vertical-align: top;\n",
       "    }\n",
       "\n",
       "    .dataframe thead th {\n",
       "        text-align: right;\n",
       "    }\n",
       "</style>\n",
       "<table border=\"1\" class=\"dataframe\">\n",
       "  <thead>\n",
       "    <tr style=\"text-align: right;\">\n",
       "      <th></th>\n",
       "      <th>age</th>\n",
       "      <th>became_member_on</th>\n",
       "      <th>income</th>\n",
       "    </tr>\n",
       "  </thead>\n",
       "  <tbody>\n",
       "    <tr>\n",
       "      <th>count</th>\n",
       "      <td>14,820.00</td>\n",
       "      <td>14,820.00</td>\n",
       "      <td>14,820.00</td>\n",
       "    </tr>\n",
       "    <tr>\n",
       "      <th>mean</th>\n",
       "      <td>54.38</td>\n",
       "      <td>20,166,887.17</td>\n",
       "      <td>65,404.18</td>\n",
       "    </tr>\n",
       "    <tr>\n",
       "      <th>std</th>\n",
       "      <td>17.37</td>\n",
       "      <td>11,886.72</td>\n",
       "      <td>21,598.76</td>\n",
       "    </tr>\n",
       "    <tr>\n",
       "      <th>min</th>\n",
       "      <td>18.00</td>\n",
       "      <td>20,130,729.00</td>\n",
       "      <td>30,000.00</td>\n",
       "    </tr>\n",
       "    <tr>\n",
       "      <th>25%</th>\n",
       "      <td>42.00</td>\n",
       "      <td>20,160,520.00</td>\n",
       "      <td>49,000.00</td>\n",
       "    </tr>\n",
       "    <tr>\n",
       "      <th>50%</th>\n",
       "      <td>55.00</td>\n",
       "      <td>20,170,802.00</td>\n",
       "      <td>64,000.00</td>\n",
       "    </tr>\n",
       "    <tr>\n",
       "      <th>75%</th>\n",
       "      <td>66.00</td>\n",
       "      <td>20,171,230.00</td>\n",
       "      <td>80,000.00</td>\n",
       "    </tr>\n",
       "    <tr>\n",
       "      <th>max</th>\n",
       "      <td>100.00</td>\n",
       "      <td>20,180,726.00</td>\n",
       "      <td>120,000.00</td>\n",
       "    </tr>\n",
       "  </tbody>\n",
       "</table>\n",
       "</div>"
      ],
      "text/plain": [
       "            age  became_member_on     income\n",
       "count 14,820.00         14,820.00  14,820.00\n",
       "mean      54.38     20,166,887.17  65,404.18\n",
       "std       17.37         11,886.72  21,598.76\n",
       "min       18.00     20,130,729.00  30,000.00\n",
       "25%       42.00     20,160,520.00  49,000.00\n",
       "50%       55.00     20,170,802.00  64,000.00\n",
       "75%       66.00     20,171,230.00  80,000.00\n",
       "max      100.00     20,180,726.00 120,000.00"
      ]
     },
     "execution_count": 38,
     "metadata": {},
     "output_type": "execute_result"
    }
   ],
   "source": [
    "df_p.describe()"
   ]
  },
  {
   "cell_type": "markdown",
   "id": "4df85147",
   "metadata": {},
   "source": [
    "#### Change data type from int to datetime for `became_member_on` column"
   ]
  },
  {
   "cell_type": "code",
   "execution_count": 39,
   "id": "fd39f4e4",
   "metadata": {},
   "outputs": [],
   "source": [
    "df_p['became_member_on'] = pd.to_datetime(df_p['became_member_on'], format='%Y%m%d')"
   ]
  },
  {
   "cell_type": "code",
   "execution_count": 40,
   "id": "42334cba",
   "metadata": {},
   "outputs": [
    {
     "name": "stdout",
     "output_type": "stream",
     "text": [
      "<class 'pandas.core.frame.DataFrame'>\n",
      "Int64Index: 14820 entries, 1 to 16999\n",
      "Data columns (total 5 columns):\n",
      " #   Column            Non-Null Count  Dtype         \n",
      "---  ------            --------------  -----         \n",
      " 0   gender            14820 non-null  object        \n",
      " 1   age               14820 non-null  int64         \n",
      " 2   id                14820 non-null  object        \n",
      " 3   became_member_on  14820 non-null  datetime64[ns]\n",
      " 4   income            14820 non-null  float64       \n",
      "dtypes: datetime64[ns](1), float64(1), int64(1), object(2)\n",
      "memory usage: 694.7+ KB\n"
     ]
    }
   ],
   "source": [
    "df_p.info()"
   ]
  },
  {
   "cell_type": "code",
   "execution_count": 41,
   "id": "4da5eb05",
   "metadata": {},
   "outputs": [
    {
     "data": {
      "text/html": [
       "<div>\n",
       "<style scoped>\n",
       "    .dataframe tbody tr th:only-of-type {\n",
       "        vertical-align: middle;\n",
       "    }\n",
       "\n",
       "    .dataframe tbody tr th {\n",
       "        vertical-align: top;\n",
       "    }\n",
       "\n",
       "    .dataframe thead th {\n",
       "        text-align: right;\n",
       "    }\n",
       "</style>\n",
       "<table border=\"1\" class=\"dataframe\">\n",
       "  <thead>\n",
       "    <tr style=\"text-align: right;\">\n",
       "      <th></th>\n",
       "      <th>gender</th>\n",
       "      <th>age</th>\n",
       "      <th>id</th>\n",
       "      <th>became_member_on</th>\n",
       "      <th>income</th>\n",
       "    </tr>\n",
       "  </thead>\n",
       "  <tbody>\n",
       "    <tr>\n",
       "      <th>1306</th>\n",
       "      <td>M</td>\n",
       "      <td>48</td>\n",
       "      <td>8d1e56c804e140fca2c001caf65d3eaa</td>\n",
       "      <td>2017-12-06</td>\n",
       "      <td>39,000.00</td>\n",
       "    </tr>\n",
       "    <tr>\n",
       "      <th>9056</th>\n",
       "      <td>M</td>\n",
       "      <td>57</td>\n",
       "      <td>f8e69750104947f0a16bfed5dab877ce</td>\n",
       "      <td>2015-08-07</td>\n",
       "      <td>91,000.00</td>\n",
       "    </tr>\n",
       "    <tr>\n",
       "      <th>5415</th>\n",
       "      <td>F</td>\n",
       "      <td>34</td>\n",
       "      <td>3b28568258854d9a98781aa1486c414c</td>\n",
       "      <td>2017-11-02</td>\n",
       "      <td>58,000.00</td>\n",
       "    </tr>\n",
       "    <tr>\n",
       "      <th>575</th>\n",
       "      <td>M</td>\n",
       "      <td>61</td>\n",
       "      <td>ae37927ce8524f43b2174b77d89263a3</td>\n",
       "      <td>2017-04-25</td>\n",
       "      <td>39,000.00</td>\n",
       "    </tr>\n",
       "    <tr>\n",
       "      <th>1029</th>\n",
       "      <td>M</td>\n",
       "      <td>40</td>\n",
       "      <td>f6baa0a236294d1a802901b8f2dbdbf6</td>\n",
       "      <td>2016-11-05</td>\n",
       "      <td>44,000.00</td>\n",
       "    </tr>\n",
       "  </tbody>\n",
       "</table>\n",
       "</div>"
      ],
      "text/plain": [
       "     gender  age                                id became_member_on    income\n",
       "1306      M   48  8d1e56c804e140fca2c001caf65d3eaa       2017-12-06 39,000.00\n",
       "9056      M   57  f8e69750104947f0a16bfed5dab877ce       2015-08-07 91,000.00\n",
       "5415      F   34  3b28568258854d9a98781aa1486c414c       2017-11-02 58,000.00\n",
       "575       M   61  ae37927ce8524f43b2174b77d89263a3       2017-04-25 39,000.00\n",
       "1029      M   40  f6baa0a236294d1a802901b8f2dbdbf6       2016-11-05 44,000.00"
      ]
     },
     "execution_count": 41,
     "metadata": {},
     "output_type": "execute_result"
    }
   ],
   "source": [
    "df_p.sample(5)"
   ]
  },
  {
   "cell_type": "markdown",
   "id": "94cee316",
   "metadata": {},
   "source": [
    "## Feature engineering"
   ]
  },
  {
   "cell_type": "markdown",
   "id": "4b84294c",
   "metadata": {},
   "source": [
    "### Profile data"
   ]
  },
  {
   "cell_type": "markdown",
   "id": "30529843",
   "metadata": {},
   "source": [
    "**Ideas on feature engineering:**\n",
    "1. `days_being_member` column can be created using `became_member_on` column\n",
    "2. Change values for `gender`column. \n",
    "Instead of using F, M and O values, we can use numbers 1 - F, 2 - M, O - 3."
   ]
  },
  {
   "cell_type": "markdown",
   "id": "28846cc4",
   "metadata": {},
   "source": [
    "#### Create column `days_being_member` "
   ]
  },
  {
   "cell_type": "code",
   "execution_count": 42,
   "id": "bc281c6e",
   "metadata": {},
   "outputs": [
    {
     "data": {
      "text/plain": [
       "(Timestamp('2013-07-29 00:00:00'), Timestamp('2018-07-26 00:00:00'))"
      ]
     },
     "execution_count": 42,
     "metadata": {},
     "output_type": "execute_result"
    }
   ],
   "source": [
    "df_p['became_member_on'].min(), df_p['became_member_on'].max()"
   ]
  },
  {
   "cell_type": "code",
   "execution_count": 43,
   "id": "a81a1680",
   "metadata": {},
   "outputs": [],
   "source": [
    "# Create a feature\n",
    "# Let's calculate from the latest date available in the dataframe\n",
    "df_p['days_being_member'] = (df_p['became_member_on'].max() - df_p['became_member_on']).dt.days"
   ]
  },
  {
   "cell_type": "code",
   "execution_count": 44,
   "id": "39c26847",
   "metadata": {
    "scrolled": true
   },
   "outputs": [
    {
     "data": {
      "text/plain": [
       "count   14,820.00\n",
       "mean       522.49\n",
       "std        419.23\n",
       "min          0.00\n",
       "50%        358.00\n",
       "80%        885.00\n",
       "max      1,823.00\n",
       "Name: days_being_member, dtype: float64"
      ]
     },
     "execution_count": 44,
     "metadata": {},
     "output_type": "execute_result"
    }
   ],
   "source": [
    "df_p['days_being_member'].describe(percentiles=[0.8])"
   ]
  },
  {
   "cell_type": "code",
   "execution_count": 45,
   "id": "18c2ea54",
   "metadata": {},
   "outputs": [
    {
     "data": {
      "image/png": "[encoded data removed]",
      "text/plain": [
       "<Figure size 360x360 with 1 Axes>"
      ]
     },
     "metadata": {
      "needs_background": "light"
     },
     "output_type": "display_data"
    }
   ],
   "source": [
    "sns.displot(df_p, x=\"days_being_member\", color='dodgerblue', binwidth=100);"
   ]
  },
  {
   "cell_type": "markdown",
   "id": "b2b83026",
   "metadata": {},
   "source": [
    "The majority of users had an app for at least 885 days, which is less than 2.5 years."
   ]
  },
  {
   "cell_type": "markdown",
   "id": "ec502571",
   "metadata": {},
   "source": [
    "#### Change values for `gender` column"
   ]
  },
  {
   "cell_type": "code",
   "execution_count": 46,
   "id": "c4b40e8d",
   "metadata": {},
   "outputs": [
    {
     "data": {
      "text/plain": [
       "M    8484\n",
       "F    6124\n",
       "O     212\n",
       "Name: gender, dtype: int64"
      ]
     },
     "execution_count": 46,
     "metadata": {},
     "output_type": "execute_result"
    }
   ],
   "source": [
    "df_p['gender'].value_counts()"
   ]
  },
  {
   "cell_type": "code",
   "execution_count": 47,
   "id": "8f90aaa6",
   "metadata": {},
   "outputs": [],
   "source": [
    "map_dict = {\"F\": 1,\n",
    "            \"M\": 2,\n",
    "            \"O\": 3}"
   ]
  },
  {
   "cell_type": "code",
   "execution_count": 48,
   "id": "2e1a52ed",
   "metadata": {},
   "outputs": [],
   "source": [
    "df_p['gender'] = df_p['gender'].map(map_dict)"
   ]
  },
  {
   "cell_type": "code",
   "execution_count": 49,
   "id": "74c11f78",
   "metadata": {},
   "outputs": [
    {
     "data": {
      "text/plain": [
       "2    8484\n",
       "1    6124\n",
       "3     212\n",
       "Name: gender, dtype: int64"
      ]
     },
     "execution_count": 49,
     "metadata": {},
     "output_type": "execute_result"
    }
   ],
   "source": [
    "df_p['gender'].value_counts()"
   ]
  },
  {
   "cell_type": "markdown",
   "id": "27570cdf",
   "metadata": {},
   "source": [
    "Let's look at the cleaned and transfromed data"
   ]
  },
  {
   "cell_type": "code",
   "execution_count": 50,
   "id": "aaf45965",
   "metadata": {},
   "outputs": [
    {
     "data": {
      "text/html": [
       "<div>\n",
       "<style scoped>\n",
       "    .dataframe tbody tr th:only-of-type {\n",
       "        vertical-align: middle;\n",
       "    }\n",
       "\n",
       "    .dataframe tbody tr th {\n",
       "        vertical-align: top;\n",
       "    }\n",
       "\n",
       "    .dataframe thead th {\n",
       "        text-align: right;\n",
       "    }\n",
       "</style>\n",
       "<table border=\"1\" class=\"dataframe\">\n",
       "  <thead>\n",
       "    <tr style=\"text-align: right;\">\n",
       "      <th></th>\n",
       "      <th>gender</th>\n",
       "      <th>age</th>\n",
       "      <th>id</th>\n",
       "      <th>became_member_on</th>\n",
       "      <th>income</th>\n",
       "      <th>days_being_member</th>\n",
       "    </tr>\n",
       "  </thead>\n",
       "  <tbody>\n",
       "    <tr>\n",
       "      <th>1</th>\n",
       "      <td>1</td>\n",
       "      <td>55</td>\n",
       "      <td>0610b486422d4921ae7d2bf64640c50b</td>\n",
       "      <td>2017-07-15</td>\n",
       "      <td>112,000.00</td>\n",
       "      <td>376</td>\n",
       "    </tr>\n",
       "    <tr>\n",
       "      <th>3</th>\n",
       "      <td>1</td>\n",
       "      <td>75</td>\n",
       "      <td>78afa995795e4d85b5d9ceeca43f5fef</td>\n",
       "      <td>2017-05-09</td>\n",
       "      <td>100,000.00</td>\n",
       "      <td>443</td>\n",
       "    </tr>\n",
       "    <tr>\n",
       "      <th>5</th>\n",
       "      <td>2</td>\n",
       "      <td>68</td>\n",
       "      <td>e2127556f4f64592b11af22de27a7932</td>\n",
       "      <td>2018-04-26</td>\n",
       "      <td>70,000.00</td>\n",
       "      <td>91</td>\n",
       "    </tr>\n",
       "    <tr>\n",
       "      <th>8</th>\n",
       "      <td>2</td>\n",
       "      <td>65</td>\n",
       "      <td>389bc3fa690240e798340f5a15918d5c</td>\n",
       "      <td>2018-02-09</td>\n",
       "      <td>53,000.00</td>\n",
       "      <td>167</td>\n",
       "    </tr>\n",
       "    <tr>\n",
       "      <th>12</th>\n",
       "      <td>2</td>\n",
       "      <td>58</td>\n",
       "      <td>2eeac8d8feae4a8cad5a6af0499a211d</td>\n",
       "      <td>2017-11-11</td>\n",
       "      <td>51,000.00</td>\n",
       "      <td>257</td>\n",
       "    </tr>\n",
       "  </tbody>\n",
       "</table>\n",
       "</div>"
      ],
      "text/plain": [
       "    gender  age                                id became_member_on     income  \\\n",
       "1        1   55  0610b486422d4921ae7d2bf64640c50b       2017-07-15 112,000.00   \n",
       "3        1   75  78afa995795e4d85b5d9ceeca43f5fef       2017-05-09 100,000.00   \n",
       "5        2   68  e2127556f4f64592b11af22de27a7932       2018-04-26  70,000.00   \n",
       "8        2   65  389bc3fa690240e798340f5a15918d5c       2018-02-09  53,000.00   \n",
       "12       2   58  2eeac8d8feae4a8cad5a6af0499a211d       2017-11-11  51,000.00   \n",
       "\n",
       "    days_being_member  \n",
       "1                 376  \n",
       "3                 443  \n",
       "5                  91  \n",
       "8                 167  \n",
       "12                257  "
      ]
     },
     "execution_count": 50,
     "metadata": {},
     "output_type": "execute_result"
    }
   ],
   "source": [
    "df_p.head()"
   ]
  },
  {
   "cell_type": "code",
   "execution_count": 51,
   "id": "fe879471",
   "metadata": {},
   "outputs": [
    {
     "data": {
      "text/plain": [
       "14820"
      ]
     },
     "execution_count": 51,
     "metadata": {},
     "output_type": "execute_result"
    }
   ],
   "source": [
    "df_p['id'].nunique()"
   ]
  },
  {
   "cell_type": "markdown",
   "id": "e77410c9",
   "metadata": {},
   "source": [
    "We removed records for about 13% of unique users"
   ]
  },
  {
   "cell_type": "code",
   "execution_count": 52,
   "id": "1e193177",
   "metadata": {},
   "outputs": [
    {
     "data": {
      "image/png": "[encoded data removed]",
      "text/plain": [
       "<Figure size 432x288 with 1 Axes>"
      ]
     },
     "metadata": {
      "needs_background": "light"
     },
     "output_type": "display_data"
    }
   ],
   "source": [
    "df_p['gender'].value_counts(normalize=True).plot.bar(color='dodgerblue');"
   ]
  },
  {
   "cell_type": "markdown",
   "id": "336a6971",
   "metadata": {},
   "source": [
    "Male users are dominant"
   ]
  },
  {
   "cell_type": "code",
   "execution_count": 53,
   "id": "77d8930f",
   "metadata": {},
   "outputs": [
    {
     "data": {
      "image/png": "[encoded data removed]",
      "text/plain": [
       "<Figure size 360x360 with 1 Axes>"
      ]
     },
     "metadata": {
      "needs_background": "light"
     },
     "output_type": "display_data"
    }
   ],
   "source": [
    "sns.displot(df_p, x=\"income\", color='dodgerblue', binwidth=5000);"
   ]
  },
  {
   "cell_type": "code",
   "execution_count": 54,
   "id": "01edfe5a",
   "metadata": {},
   "outputs": [
    {
     "data": {
      "image/png": "[encoded data removed]",
      "text/plain": [
       "<Figure size 360x360 with 1 Axes>"
      ]
     },
     "metadata": {
      "needs_background": "light"
     },
     "output_type": "display_data"
    }
   ],
   "source": [
    "sns.displot(df_p, x=\"age\", color='dodgerblue', binwidth=5);"
   ]
  },
  {
   "cell_type": "code",
   "execution_count": 55,
   "id": "3825151a",
   "metadata": {},
   "outputs": [],
   "source": [
    "# Let's change column name for 'id' to 'person' \n",
    "df_p.columns = ['gender', 'age', 'person', 'became_member_on', 'income', 'days_being_member']"
   ]
  },
  {
   "cell_type": "code",
   "execution_count": 56,
   "id": "8157ec49",
   "metadata": {
    "scrolled": true
   },
   "outputs": [
    {
     "data": {
      "text/html": [
       "<div>\n",
       "<style scoped>\n",
       "    .dataframe tbody tr th:only-of-type {\n",
       "        vertical-align: middle;\n",
       "    }\n",
       "\n",
       "    .dataframe tbody tr th {\n",
       "        vertical-align: top;\n",
       "    }\n",
       "\n",
       "    .dataframe thead th {\n",
       "        text-align: right;\n",
       "    }\n",
       "</style>\n",
       "<table border=\"1\" class=\"dataframe\">\n",
       "  <thead>\n",
       "    <tr style=\"text-align: right;\">\n",
       "      <th></th>\n",
       "      <th>gender</th>\n",
       "      <th>age</th>\n",
       "      <th>person</th>\n",
       "      <th>became_member_on</th>\n",
       "      <th>income</th>\n",
       "      <th>days_being_member</th>\n",
       "    </tr>\n",
       "  </thead>\n",
       "  <tbody>\n",
       "    <tr>\n",
       "      <th>1</th>\n",
       "      <td>1</td>\n",
       "      <td>55</td>\n",
       "      <td>0610b486422d4921ae7d2bf64640c50b</td>\n",
       "      <td>2017-07-15</td>\n",
       "      <td>112,000.00</td>\n",
       "      <td>376</td>\n",
       "    </tr>\n",
       "    <tr>\n",
       "      <th>3</th>\n",
       "      <td>1</td>\n",
       "      <td>75</td>\n",
       "      <td>78afa995795e4d85b5d9ceeca43f5fef</td>\n",
       "      <td>2017-05-09</td>\n",
       "      <td>100,000.00</td>\n",
       "      <td>443</td>\n",
       "    </tr>\n",
       "  </tbody>\n",
       "</table>\n",
       "</div>"
      ],
      "text/plain": [
       "   gender  age                            person became_member_on     income  \\\n",
       "1       1   55  0610b486422d4921ae7d2bf64640c50b       2017-07-15 112,000.00   \n",
       "3       1   75  78afa995795e4d85b5d9ceeca43f5fef       2017-05-09 100,000.00   \n",
       "\n",
       "   days_being_member  \n",
       "1                376  \n",
       "3                443  "
      ]
     },
     "execution_count": 56,
     "metadata": {},
     "output_type": "execute_result"
    }
   ],
   "source": [
    "df_p.head(2)"
   ]
  },
  {
   "cell_type": "code",
   "execution_count": 57,
   "id": "482f22ba",
   "metadata": {},
   "outputs": [],
   "source": [
    "# Let's drop column 'became_member_on'\n",
    "df_p.drop(columns=['became_member_on'], inplace=True)"
   ]
  },
  {
   "cell_type": "code",
   "execution_count": 58,
   "id": "674056d7",
   "metadata": {},
   "outputs": [],
   "source": [
    "# Let's save cleaned data\n",
    "df_p.to_csv(\"./data/starbucks/profile_clean.csv\", index=False)"
   ]
  },
  {
   "cell_type": "markdown",
   "id": "92137ade",
   "metadata": {},
   "source": [
    "### Transcript data"
   ]
  },
  {
   "cell_type": "code",
   "execution_count": 59,
   "id": "e84b621a",
   "metadata": {},
   "outputs": [
    {
     "data": {
      "text/html": [
       "<div>\n",
       "<style scoped>\n",
       "    .dataframe tbody tr th:only-of-type {\n",
       "        vertical-align: middle;\n",
       "    }\n",
       "\n",
       "    .dataframe tbody tr th {\n",
       "        vertical-align: top;\n",
       "    }\n",
       "\n",
       "    .dataframe thead th {\n",
       "        text-align: right;\n",
       "    }\n",
       "</style>\n",
       "<table border=\"1\" class=\"dataframe\">\n",
       "  <thead>\n",
       "    <tr style=\"text-align: right;\">\n",
       "      <th></th>\n",
       "      <th>person</th>\n",
       "      <th>event</th>\n",
       "      <th>value</th>\n",
       "      <th>time</th>\n",
       "    </tr>\n",
       "  </thead>\n",
       "  <tbody>\n",
       "    <tr>\n",
       "      <th>0</th>\n",
       "      <td>78afa995795e4d85b5d9ceeca43f5fef</td>\n",
       "      <td>offer received</td>\n",
       "      <td>{'offer id': '9b98b8c7a33c4b65b9aebfe6a799e6d9'}</td>\n",
       "      <td>0</td>\n",
       "    </tr>\n",
       "    <tr>\n",
       "      <th>1</th>\n",
       "      <td>a03223e636434f42ac4c3df47e8bac43</td>\n",
       "      <td>offer received</td>\n",
       "      <td>{'offer id': '0b1e1539f2cc45b7b9fa7c272da2e1d7'}</td>\n",
       "      <td>0</td>\n",
       "    </tr>\n",
       "  </tbody>\n",
       "</table>\n",
       "</div>"
      ],
      "text/plain": [
       "                             person           event  \\\n",
       "0  78afa995795e4d85b5d9ceeca43f5fef  offer received   \n",
       "1  a03223e636434f42ac4c3df47e8bac43  offer received   \n",
       "\n",
       "                                              value  time  \n",
       "0  {'offer id': '9b98b8c7a33c4b65b9aebfe6a799e6d9'}     0  \n",
       "1  {'offer id': '0b1e1539f2cc45b7b9fa7c272da2e1d7'}     0  "
      ]
     },
     "execution_count": 59,
     "metadata": {},
     "output_type": "execute_result"
    }
   ],
   "source": [
    "df_t.head(2)"
   ]
  },
  {
   "cell_type": "markdown",
   "id": "435730c8",
   "metadata": {},
   "source": [
    "Let's separate data into offers and transactions"
   ]
  },
  {
   "cell_type": "code",
   "execution_count": 60,
   "id": "50f6bf1c",
   "metadata": {},
   "outputs": [],
   "source": [
    "df_tr = df_t[df_t['event'] == 'transaction']\n",
    "df_off = df_t[df_t['event'] != 'transaction']"
   ]
  },
  {
   "cell_type": "markdown",
   "id": "ed3b83da",
   "metadata": {},
   "source": [
    "#### Engineering transaction features"
   ]
  },
  {
   "cell_type": "code",
   "execution_count": 61,
   "id": "1cebe015",
   "metadata": {},
   "outputs": [
    {
     "data": {
      "text/html": [
       "<div>\n",
       "<style scoped>\n",
       "    .dataframe tbody tr th:only-of-type {\n",
       "        vertical-align: middle;\n",
       "    }\n",
       "\n",
       "    .dataframe tbody tr th {\n",
       "        vertical-align: top;\n",
       "    }\n",
       "\n",
       "    .dataframe thead th {\n",
       "        text-align: right;\n",
       "    }\n",
       "</style>\n",
       "<table border=\"1\" class=\"dataframe\">\n",
       "  <thead>\n",
       "    <tr style=\"text-align: right;\">\n",
       "      <th></th>\n",
       "      <th>person</th>\n",
       "      <th>event</th>\n",
       "      <th>value</th>\n",
       "      <th>time</th>\n",
       "    </tr>\n",
       "  </thead>\n",
       "  <tbody>\n",
       "    <tr>\n",
       "      <th>12654</th>\n",
       "      <td>02c083884c7d45b39cc68e1314fec56c</td>\n",
       "      <td>transaction</td>\n",
       "      <td>{'amount': 0.8300000000000001}</td>\n",
       "      <td>0</td>\n",
       "    </tr>\n",
       "    <tr>\n",
       "      <th>12657</th>\n",
       "      <td>9fa9ae8f57894cc9a3b8a9bbe0fc1b2f</td>\n",
       "      <td>transaction</td>\n",
       "      <td>{'amount': 34.56}</td>\n",
       "      <td>0</td>\n",
       "    </tr>\n",
       "  </tbody>\n",
       "</table>\n",
       "</div>"
      ],
      "text/plain": [
       "                                 person        event  \\\n",
       "12654  02c083884c7d45b39cc68e1314fec56c  transaction   \n",
       "12657  9fa9ae8f57894cc9a3b8a9bbe0fc1b2f  transaction   \n",
       "\n",
       "                                value  time  \n",
       "12654  {'amount': 0.8300000000000001}     0  \n",
       "12657               {'amount': 34.56}     0  "
      ]
     },
     "execution_count": 61,
     "metadata": {},
     "output_type": "execute_result"
    }
   ],
   "source": [
    "df_tr.head(2)"
   ]
  },
  {
   "cell_type": "code",
   "execution_count": 62,
   "id": "40788591",
   "metadata": {},
   "outputs": [
    {
     "name": "stdout",
     "output_type": "stream",
     "text": [
      "Percentage of transaction data out of all records:  45.33037118231583\n"
     ]
    }
   ],
   "source": [
    "print(\"Percentage of transaction data out of all records: \", (df_tr.shape[0] / df_t.shape[0]) * 100)"
   ]
  },
  {
   "cell_type": "code",
   "execution_count": 63,
   "id": "12de037b",
   "metadata": {},
   "outputs": [
    {
     "data": {
      "text/plain": [
       "16578"
      ]
     },
     "execution_count": 63,
     "metadata": {},
     "output_type": "execute_result"
    }
   ],
   "source": [
    "df_tr['person'].nunique()"
   ]
  },
  {
   "cell_type": "code",
   "execution_count": 64,
   "id": "e800796f",
   "metadata": {},
   "outputs": [],
   "source": [
    "# Create transaction amount column\n",
    "df_tr['transactions_amount'] = df_tr['value'].str[11:16]\n",
    "df_tr['transactions_amount'] = df_tr['transactions_amount'].str.replace('}', '')\n",
    "df_tr['transactions_amount'] = df_tr['transactions_amount'].astype(float)"
   ]
  },
  {
   "cell_type": "code",
   "execution_count": 65,
   "id": "6aab58f9",
   "metadata": {},
   "outputs": [
    {
     "data": {
      "text/html": [
       "<div>\n",
       "<style scoped>\n",
       "    .dataframe tbody tr th:only-of-type {\n",
       "        vertical-align: middle;\n",
       "    }\n",
       "\n",
       "    .dataframe tbody tr th {\n",
       "        vertical-align: top;\n",
       "    }\n",
       "\n",
       "    .dataframe thead th {\n",
       "        text-align: right;\n",
       "    }\n",
       "</style>\n",
       "<table border=\"1\" class=\"dataframe\">\n",
       "  <thead>\n",
       "    <tr style=\"text-align: right;\">\n",
       "      <th></th>\n",
       "      <th>person</th>\n",
       "      <th>event</th>\n",
       "      <th>value</th>\n",
       "      <th>time</th>\n",
       "      <th>transactions_amount</th>\n",
       "    </tr>\n",
       "  </thead>\n",
       "  <tbody>\n",
       "    <tr>\n",
       "      <th>12654</th>\n",
       "      <td>02c083884c7d45b39cc68e1314fec56c</td>\n",
       "      <td>transaction</td>\n",
       "      <td>{'amount': 0.8300000000000001}</td>\n",
       "      <td>0</td>\n",
       "      <td>0.83</td>\n",
       "    </tr>\n",
       "    <tr>\n",
       "      <th>12657</th>\n",
       "      <td>9fa9ae8f57894cc9a3b8a9bbe0fc1b2f</td>\n",
       "      <td>transaction</td>\n",
       "      <td>{'amount': 34.56}</td>\n",
       "      <td>0</td>\n",
       "      <td>34.56</td>\n",
       "    </tr>\n",
       "    <tr>\n",
       "      <th>12659</th>\n",
       "      <td>54890f68699049c2a04d415abc25e717</td>\n",
       "      <td>transaction</td>\n",
       "      <td>{'amount': 13.23}</td>\n",
       "      <td>0</td>\n",
       "      <td>13.23</td>\n",
       "    </tr>\n",
       "    <tr>\n",
       "      <th>12670</th>\n",
       "      <td>b2f1cd155b864803ad8334cdf13c4bd2</td>\n",
       "      <td>transaction</td>\n",
       "      <td>{'amount': 19.51}</td>\n",
       "      <td>0</td>\n",
       "      <td>19.51</td>\n",
       "    </tr>\n",
       "    <tr>\n",
       "      <th>12671</th>\n",
       "      <td>fe97aa22dd3e48c8b143116a8403dd52</td>\n",
       "      <td>transaction</td>\n",
       "      <td>{'amount': 18.97}</td>\n",
       "      <td>0</td>\n",
       "      <td>18.97</td>\n",
       "    </tr>\n",
       "  </tbody>\n",
       "</table>\n",
       "</div>"
      ],
      "text/plain": [
       "                                 person        event  \\\n",
       "12654  02c083884c7d45b39cc68e1314fec56c  transaction   \n",
       "12657  9fa9ae8f57894cc9a3b8a9bbe0fc1b2f  transaction   \n",
       "12659  54890f68699049c2a04d415abc25e717  transaction   \n",
       "12670  b2f1cd155b864803ad8334cdf13c4bd2  transaction   \n",
       "12671  fe97aa22dd3e48c8b143116a8403dd52  transaction   \n",
       "\n",
       "                                value  time  transactions_amount  \n",
       "12654  {'amount': 0.8300000000000001}     0                 0.83  \n",
       "12657               {'amount': 34.56}     0                34.56  \n",
       "12659               {'amount': 13.23}     0                13.23  \n",
       "12670               {'amount': 19.51}     0                19.51  \n",
       "12671               {'amount': 18.97}     0                18.97  "
      ]
     },
     "execution_count": 65,
     "metadata": {},
     "output_type": "execute_result"
    }
   ],
   "source": [
    "df_tr.head()"
   ]
  },
  {
   "cell_type": "code",
   "execution_count": 66,
   "id": "bc32a721",
   "metadata": {},
   "outputs": [
    {
     "name": "stdout",
     "output_type": "stream",
     "text": [
      "<class 'pandas.core.frame.DataFrame'>\n",
      "Int64Index: 138953 entries, 12654 to 306533\n",
      "Data columns (total 5 columns):\n",
      " #   Column               Non-Null Count   Dtype  \n",
      "---  ------               --------------   -----  \n",
      " 0   person               138953 non-null  object \n",
      " 1   event                138953 non-null  object \n",
      " 2   value                138953 non-null  object \n",
      " 3   time                 138953 non-null  int64  \n",
      " 4   transactions_amount  138953 non-null  float64\n",
      "dtypes: float64(1), int64(1), object(3)\n",
      "memory usage: 6.4+ MB\n"
     ]
    }
   ],
   "source": [
    "df_tr.info()"
   ]
  },
  {
   "cell_type": "code",
   "execution_count": 67,
   "id": "2947085e",
   "metadata": {},
   "outputs": [],
   "source": [
    "# Create a column with transactions\n",
    "df_tr['transactions'] = 1"
   ]
  },
  {
   "cell_type": "code",
   "execution_count": 68,
   "id": "add53d36",
   "metadata": {},
   "outputs": [
    {
     "data": {
      "text/html": [
       "<div>\n",
       "<style scoped>\n",
       "    .dataframe tbody tr th:only-of-type {\n",
       "        vertical-align: middle;\n",
       "    }\n",
       "\n",
       "    .dataframe tbody tr th {\n",
       "        vertical-align: top;\n",
       "    }\n",
       "\n",
       "    .dataframe thead th {\n",
       "        text-align: right;\n",
       "    }\n",
       "</style>\n",
       "<table border=\"1\" class=\"dataframe\">\n",
       "  <thead>\n",
       "    <tr style=\"text-align: right;\">\n",
       "      <th></th>\n",
       "      <th>person</th>\n",
       "      <th>event</th>\n",
       "      <th>value</th>\n",
       "      <th>time</th>\n",
       "      <th>transactions_amount</th>\n",
       "      <th>transactions</th>\n",
       "    </tr>\n",
       "  </thead>\n",
       "  <tbody>\n",
       "    <tr>\n",
       "      <th>12654</th>\n",
       "      <td>02c083884c7d45b39cc68e1314fec56c</td>\n",
       "      <td>transaction</td>\n",
       "      <td>{'amount': 0.8300000000000001}</td>\n",
       "      <td>0</td>\n",
       "      <td>0.83</td>\n",
       "      <td>1</td>\n",
       "    </tr>\n",
       "    <tr>\n",
       "      <th>12657</th>\n",
       "      <td>9fa9ae8f57894cc9a3b8a9bbe0fc1b2f</td>\n",
       "      <td>transaction</td>\n",
       "      <td>{'amount': 34.56}</td>\n",
       "      <td>0</td>\n",
       "      <td>34.56</td>\n",
       "      <td>1</td>\n",
       "    </tr>\n",
       "    <tr>\n",
       "      <th>12659</th>\n",
       "      <td>54890f68699049c2a04d415abc25e717</td>\n",
       "      <td>transaction</td>\n",
       "      <td>{'amount': 13.23}</td>\n",
       "      <td>0</td>\n",
       "      <td>13.23</td>\n",
       "      <td>1</td>\n",
       "    </tr>\n",
       "    <tr>\n",
       "      <th>12670</th>\n",
       "      <td>b2f1cd155b864803ad8334cdf13c4bd2</td>\n",
       "      <td>transaction</td>\n",
       "      <td>{'amount': 19.51}</td>\n",
       "      <td>0</td>\n",
       "      <td>19.51</td>\n",
       "      <td>1</td>\n",
       "    </tr>\n",
       "    <tr>\n",
       "      <th>12671</th>\n",
       "      <td>fe97aa22dd3e48c8b143116a8403dd52</td>\n",
       "      <td>transaction</td>\n",
       "      <td>{'amount': 18.97}</td>\n",
       "      <td>0</td>\n",
       "      <td>18.97</td>\n",
       "      <td>1</td>\n",
       "    </tr>\n",
       "  </tbody>\n",
       "</table>\n",
       "</div>"
      ],
      "text/plain": [
       "                                 person        event  \\\n",
       "12654  02c083884c7d45b39cc68e1314fec56c  transaction   \n",
       "12657  9fa9ae8f57894cc9a3b8a9bbe0fc1b2f  transaction   \n",
       "12659  54890f68699049c2a04d415abc25e717  transaction   \n",
       "12670  b2f1cd155b864803ad8334cdf13c4bd2  transaction   \n",
       "12671  fe97aa22dd3e48c8b143116a8403dd52  transaction   \n",
       "\n",
       "                                value  time  transactions_amount  transactions  \n",
       "12654  {'amount': 0.8300000000000001}     0                 0.83             1  \n",
       "12657               {'amount': 34.56}     0                34.56             1  \n",
       "12659               {'amount': 13.23}     0                13.23             1  \n",
       "12670               {'amount': 19.51}     0                19.51             1  \n",
       "12671               {'amount': 18.97}     0                18.97             1  "
      ]
     },
     "execution_count": 68,
     "metadata": {},
     "output_type": "execute_result"
    }
   ],
   "source": [
    "df_tr.head()"
   ]
  },
  {
   "cell_type": "markdown",
   "id": "90bee058",
   "metadata": {},
   "source": [
    "Let's aggregate the transaction data per user using sum aggregation"
   ]
  },
  {
   "cell_type": "code",
   "execution_count": 69,
   "id": "810eca5c",
   "metadata": {},
   "outputs": [],
   "source": [
    "df_tr_agg = df_tr.groupby('person').agg({'transactions_amount':'sum',\n",
    "                                         'transactions':'sum'}).reset_index()"
   ]
  },
  {
   "cell_type": "code",
   "execution_count": 70,
   "id": "a78d1ca9",
   "metadata": {},
   "outputs": [
    {
     "data": {
      "text/html": [
       "<div>\n",
       "<style scoped>\n",
       "    .dataframe tbody tr th:only-of-type {\n",
       "        vertical-align: middle;\n",
       "    }\n",
       "\n",
       "    .dataframe tbody tr th {\n",
       "        vertical-align: top;\n",
       "    }\n",
       "\n",
       "    .dataframe thead th {\n",
       "        text-align: right;\n",
       "    }\n",
       "</style>\n",
       "<table border=\"1\" class=\"dataframe\">\n",
       "  <thead>\n",
       "    <tr style=\"text-align: right;\">\n",
       "      <th></th>\n",
       "      <th>person</th>\n",
       "      <th>transactions_amount</th>\n",
       "      <th>transactions</th>\n",
       "    </tr>\n",
       "  </thead>\n",
       "  <tbody>\n",
       "    <tr>\n",
       "      <th>0</th>\n",
       "      <td>0009655768c64bdeb2e877511632db8f</td>\n",
       "      <td>127.60</td>\n",
       "      <td>8</td>\n",
       "    </tr>\n",
       "    <tr>\n",
       "      <th>1</th>\n",
       "      <td>00116118485d4dfda04fdbaba9a87b5c</td>\n",
       "      <td>4.09</td>\n",
       "      <td>3</td>\n",
       "    </tr>\n",
       "    <tr>\n",
       "      <th>2</th>\n",
       "      <td>0011e0d4e6b944f998e987f904e8c1e5</td>\n",
       "      <td>79.46</td>\n",
       "      <td>5</td>\n",
       "    </tr>\n",
       "    <tr>\n",
       "      <th>3</th>\n",
       "      <td>0020c2b971eb4e9188eac86d93036a77</td>\n",
       "      <td>196.86</td>\n",
       "      <td>8</td>\n",
       "    </tr>\n",
       "    <tr>\n",
       "      <th>4</th>\n",
       "      <td>0020ccbbb6d84e358d3414a3ff76cffd</td>\n",
       "      <td>154.05</td>\n",
       "      <td>12</td>\n",
       "    </tr>\n",
       "  </tbody>\n",
       "</table>\n",
       "</div>"
      ],
      "text/plain": [
       "                             person  transactions_amount  transactions\n",
       "0  0009655768c64bdeb2e877511632db8f               127.60             8\n",
       "1  00116118485d4dfda04fdbaba9a87b5c                 4.09             3\n",
       "2  0011e0d4e6b944f998e987f904e8c1e5                79.46             5\n",
       "3  0020c2b971eb4e9188eac86d93036a77               196.86             8\n",
       "4  0020ccbbb6d84e358d3414a3ff76cffd               154.05            12"
      ]
     },
     "execution_count": 70,
     "metadata": {},
     "output_type": "execute_result"
    }
   ],
   "source": [
    "df_tr_agg.head()"
   ]
  },
  {
   "cell_type": "code",
   "execution_count": 71,
   "id": "f086770f",
   "metadata": {},
   "outputs": [
    {
     "name": "stdout",
     "output_type": "stream",
     "text": [
      "<class 'pandas.core.frame.DataFrame'>\n",
      "RangeIndex: 16578 entries, 0 to 16577\n",
      "Data columns (total 3 columns):\n",
      " #   Column               Non-Null Count  Dtype  \n",
      "---  ------               --------------  -----  \n",
      " 0   person               16578 non-null  object \n",
      " 1   transactions_amount  16578 non-null  float64\n",
      " 2   transactions         16578 non-null  int64  \n",
      "dtypes: float64(1), int64(1), object(1)\n",
      "memory usage: 388.7+ KB\n"
     ]
    }
   ],
   "source": [
    "df_tr_agg.info()"
   ]
  },
  {
   "cell_type": "code",
   "execution_count": 72,
   "id": "786ec011",
   "metadata": {},
   "outputs": [
    {
     "data": {
      "text/html": [
       "<div>\n",
       "<style scoped>\n",
       "    .dataframe tbody tr th:only-of-type {\n",
       "        vertical-align: middle;\n",
       "    }\n",
       "\n",
       "    .dataframe tbody tr th {\n",
       "        vertical-align: top;\n",
       "    }\n",
       "\n",
       "    .dataframe thead th {\n",
       "        text-align: right;\n",
       "    }\n",
       "</style>\n",
       "<table border=\"1\" class=\"dataframe\">\n",
       "  <thead>\n",
       "    <tr style=\"text-align: right;\">\n",
       "      <th></th>\n",
       "      <th>transactions_amount</th>\n",
       "      <th>transactions</th>\n",
       "    </tr>\n",
       "  </thead>\n",
       "  <tbody>\n",
       "    <tr>\n",
       "      <th>count</th>\n",
       "      <td>16,578.00</td>\n",
       "      <td>16,578.00</td>\n",
       "    </tr>\n",
       "    <tr>\n",
       "      <th>mean</th>\n",
       "      <td>107.10</td>\n",
       "      <td>8.38</td>\n",
       "    </tr>\n",
       "    <tr>\n",
       "      <th>std</th>\n",
       "      <td>126.39</td>\n",
       "      <td>5.01</td>\n",
       "    </tr>\n",
       "    <tr>\n",
       "      <th>min</th>\n",
       "      <td>0.05</td>\n",
       "      <td>1.00</td>\n",
       "    </tr>\n",
       "    <tr>\n",
       "      <th>50%</th>\n",
       "      <td>72.41</td>\n",
       "      <td>7.00</td>\n",
       "    </tr>\n",
       "    <tr>\n",
       "      <th>80%</th>\n",
       "      <td>170.65</td>\n",
       "      <td>12.00</td>\n",
       "    </tr>\n",
       "    <tr>\n",
       "      <th>max</th>\n",
       "      <td>1,608.60</td>\n",
       "      <td>36.00</td>\n",
       "    </tr>\n",
       "  </tbody>\n",
       "</table>\n",
       "</div>"
      ],
      "text/plain": [
       "       transactions_amount  transactions\n",
       "count            16,578.00     16,578.00\n",
       "mean                107.10          8.38\n",
       "std                 126.39          5.01\n",
       "min                   0.05          1.00\n",
       "50%                  72.41          7.00\n",
       "80%                 170.65         12.00\n",
       "max               1,608.60         36.00"
      ]
     },
     "execution_count": 72,
     "metadata": {},
     "output_type": "execute_result"
    }
   ],
   "source": [
    "df_tr_agg.describe(percentiles=[0.8])"
   ]
  },
  {
   "cell_type": "markdown",
   "id": "36bfda3c",
   "metadata": {},
   "source": [
    "#### Engineering offers related features"
   ]
  },
  {
   "cell_type": "code",
   "execution_count": 73,
   "id": "5e399408",
   "metadata": {},
   "outputs": [
    {
     "data": {
      "text/html": [
       "<div>\n",
       "<style scoped>\n",
       "    .dataframe tbody tr th:only-of-type {\n",
       "        vertical-align: middle;\n",
       "    }\n",
       "\n",
       "    .dataframe tbody tr th {\n",
       "        vertical-align: top;\n",
       "    }\n",
       "\n",
       "    .dataframe thead th {\n",
       "        text-align: right;\n",
       "    }\n",
       "</style>\n",
       "<table border=\"1\" class=\"dataframe\">\n",
       "  <thead>\n",
       "    <tr style=\"text-align: right;\">\n",
       "      <th></th>\n",
       "      <th>person</th>\n",
       "      <th>event</th>\n",
       "      <th>value</th>\n",
       "      <th>time</th>\n",
       "    </tr>\n",
       "  </thead>\n",
       "  <tbody>\n",
       "    <tr>\n",
       "      <th>0</th>\n",
       "      <td>78afa995795e4d85b5d9ceeca43f5fef</td>\n",
       "      <td>offer received</td>\n",
       "      <td>{'offer id': '9b98b8c7a33c4b65b9aebfe6a799e6d9'}</td>\n",
       "      <td>0</td>\n",
       "    </tr>\n",
       "    <tr>\n",
       "      <th>1</th>\n",
       "      <td>a03223e636434f42ac4c3df47e8bac43</td>\n",
       "      <td>offer received</td>\n",
       "      <td>{'offer id': '0b1e1539f2cc45b7b9fa7c272da2e1d7'}</td>\n",
       "      <td>0</td>\n",
       "    </tr>\n",
       "    <tr>\n",
       "      <th>2</th>\n",
       "      <td>e2127556f4f64592b11af22de27a7932</td>\n",
       "      <td>offer received</td>\n",
       "      <td>{'offer id': '2906b810c7d4411798c6938adc9daaa5'}</td>\n",
       "      <td>0</td>\n",
       "    </tr>\n",
       "  </tbody>\n",
       "</table>\n",
       "</div>"
      ],
      "text/plain": [
       "                             person           event  \\\n",
       "0  78afa995795e4d85b5d9ceeca43f5fef  offer received   \n",
       "1  a03223e636434f42ac4c3df47e8bac43  offer received   \n",
       "2  e2127556f4f64592b11af22de27a7932  offer received   \n",
       "\n",
       "                                              value  time  \n",
       "0  {'offer id': '9b98b8c7a33c4b65b9aebfe6a799e6d9'}     0  \n",
       "1  {'offer id': '0b1e1539f2cc45b7b9fa7c272da2e1d7'}     0  \n",
       "2  {'offer id': '2906b810c7d4411798c6938adc9daaa5'}     0  "
      ]
     },
     "execution_count": 73,
     "metadata": {},
     "output_type": "execute_result"
    }
   ],
   "source": [
    "df_off.head(3)"
   ]
  },
  {
   "cell_type": "code",
   "execution_count": 74,
   "id": "02106238",
   "metadata": {},
   "outputs": [
    {
     "data": {
      "text/plain": [
       "16994"
      ]
     },
     "execution_count": 74,
     "metadata": {},
     "output_type": "execute_result"
    }
   ],
   "source": [
    "df_off['person'].nunique()"
   ]
  },
  {
   "cell_type": "code",
   "execution_count": 75,
   "id": "2b046fdb",
   "metadata": {},
   "outputs": [],
   "source": [
    "# Create a column with offer ids\n",
    "df_off['offer_id'] = df_off['value'].str[14:46]"
   ]
  },
  {
   "cell_type": "code",
   "execution_count": 76,
   "id": "1fd87c83",
   "metadata": {},
   "outputs": [
    {
     "data": {
      "text/html": [
       "<div>\n",
       "<style scoped>\n",
       "    .dataframe tbody tr th:only-of-type {\n",
       "        vertical-align: middle;\n",
       "    }\n",
       "\n",
       "    .dataframe tbody tr th {\n",
       "        vertical-align: top;\n",
       "    }\n",
       "\n",
       "    .dataframe thead th {\n",
       "        text-align: right;\n",
       "    }\n",
       "</style>\n",
       "<table border=\"1\" class=\"dataframe\">\n",
       "  <thead>\n",
       "    <tr style=\"text-align: right;\">\n",
       "      <th></th>\n",
       "      <th>person</th>\n",
       "      <th>event</th>\n",
       "      <th>value</th>\n",
       "      <th>time</th>\n",
       "      <th>offer_id</th>\n",
       "    </tr>\n",
       "  </thead>\n",
       "  <tbody>\n",
       "    <tr>\n",
       "      <th>0</th>\n",
       "      <td>78afa995795e4d85b5d9ceeca43f5fef</td>\n",
       "      <td>offer received</td>\n",
       "      <td>{'offer id': '9b98b8c7a33c4b65b9aebfe6a799e6d9'}</td>\n",
       "      <td>0</td>\n",
       "      <td>9b98b8c7a33c4b65b9aebfe6a799e6d9</td>\n",
       "    </tr>\n",
       "    <tr>\n",
       "      <th>1</th>\n",
       "      <td>a03223e636434f42ac4c3df47e8bac43</td>\n",
       "      <td>offer received</td>\n",
       "      <td>{'offer id': '0b1e1539f2cc45b7b9fa7c272da2e1d7'}</td>\n",
       "      <td>0</td>\n",
       "      <td>0b1e1539f2cc45b7b9fa7c272da2e1d7</td>\n",
       "    </tr>\n",
       "    <tr>\n",
       "      <th>2</th>\n",
       "      <td>e2127556f4f64592b11af22de27a7932</td>\n",
       "      <td>offer received</td>\n",
       "      <td>{'offer id': '2906b810c7d4411798c6938adc9daaa5'}</td>\n",
       "      <td>0</td>\n",
       "      <td>2906b810c7d4411798c6938adc9daaa5</td>\n",
       "    </tr>\n",
       "  </tbody>\n",
       "</table>\n",
       "</div>"
      ],
      "text/plain": [
       "                             person           event  \\\n",
       "0  78afa995795e4d85b5d9ceeca43f5fef  offer received   \n",
       "1  a03223e636434f42ac4c3df47e8bac43  offer received   \n",
       "2  e2127556f4f64592b11af22de27a7932  offer received   \n",
       "\n",
       "                                              value  time  \\\n",
       "0  {'offer id': '9b98b8c7a33c4b65b9aebfe6a799e6d9'}     0   \n",
       "1  {'offer id': '0b1e1539f2cc45b7b9fa7c272da2e1d7'}     0   \n",
       "2  {'offer id': '2906b810c7d4411798c6938adc9daaa5'}     0   \n",
       "\n",
       "                           offer_id  \n",
       "0  9b98b8c7a33c4b65b9aebfe6a799e6d9  \n",
       "1  0b1e1539f2cc45b7b9fa7c272da2e1d7  \n",
       "2  2906b810c7d4411798c6938adc9daaa5  "
      ]
     },
     "execution_count": 76,
     "metadata": {},
     "output_type": "execute_result"
    }
   ],
   "source": [
    "df_off.head(3)"
   ]
  },
  {
   "cell_type": "code",
   "execution_count": 77,
   "id": "7d7e233a",
   "metadata": {},
   "outputs": [],
   "source": [
    "# Let's add offer type\n",
    "df_off = pd.merge(df_off, df_port[['offer_type', 'offer_id']],\n",
    "                  left_on=['offer_id'],\n",
    "                  right_on=['offer_id'],\n",
    "                  how='left')"
   ]
  },
  {
   "cell_type": "code",
   "execution_count": 78,
   "id": "ac8c231f",
   "metadata": {},
   "outputs": [
    {
     "data": {
      "text/html": [
       "<div>\n",
       "<style scoped>\n",
       "    .dataframe tbody tr th:only-of-type {\n",
       "        vertical-align: middle;\n",
       "    }\n",
       "\n",
       "    .dataframe tbody tr th {\n",
       "        vertical-align: top;\n",
       "    }\n",
       "\n",
       "    .dataframe thead th {\n",
       "        text-align: right;\n",
       "    }\n",
       "</style>\n",
       "<table border=\"1\" class=\"dataframe\">\n",
       "  <thead>\n",
       "    <tr style=\"text-align: right;\">\n",
       "      <th></th>\n",
       "      <th>person</th>\n",
       "      <th>event</th>\n",
       "      <th>value</th>\n",
       "      <th>time</th>\n",
       "      <th>offer_id</th>\n",
       "      <th>offer_type</th>\n",
       "    </tr>\n",
       "  </thead>\n",
       "  <tbody>\n",
       "    <tr>\n",
       "      <th>0</th>\n",
       "      <td>78afa995795e4d85b5d9ceeca43f5fef</td>\n",
       "      <td>offer received</td>\n",
       "      <td>{'offer id': '9b98b8c7a33c4b65b9aebfe6a799e6d9'}</td>\n",
       "      <td>0</td>\n",
       "      <td>9b98b8c7a33c4b65b9aebfe6a799e6d9</td>\n",
       "      <td>bogo</td>\n",
       "    </tr>\n",
       "    <tr>\n",
       "      <th>1</th>\n",
       "      <td>a03223e636434f42ac4c3df47e8bac43</td>\n",
       "      <td>offer received</td>\n",
       "      <td>{'offer id': '0b1e1539f2cc45b7b9fa7c272da2e1d7'}</td>\n",
       "      <td>0</td>\n",
       "      <td>0b1e1539f2cc45b7b9fa7c272da2e1d7</td>\n",
       "      <td>discount</td>\n",
       "    </tr>\n",
       "    <tr>\n",
       "      <th>2</th>\n",
       "      <td>e2127556f4f64592b11af22de27a7932</td>\n",
       "      <td>offer received</td>\n",
       "      <td>{'offer id': '2906b810c7d4411798c6938adc9daaa5'}</td>\n",
       "      <td>0</td>\n",
       "      <td>2906b810c7d4411798c6938adc9daaa5</td>\n",
       "      <td>discount</td>\n",
       "    </tr>\n",
       "  </tbody>\n",
       "</table>\n",
       "</div>"
      ],
      "text/plain": [
       "                             person           event  \\\n",
       "0  78afa995795e4d85b5d9ceeca43f5fef  offer received   \n",
       "1  a03223e636434f42ac4c3df47e8bac43  offer received   \n",
       "2  e2127556f4f64592b11af22de27a7932  offer received   \n",
       "\n",
       "                                              value  time  \\\n",
       "0  {'offer id': '9b98b8c7a33c4b65b9aebfe6a799e6d9'}     0   \n",
       "1  {'offer id': '0b1e1539f2cc45b7b9fa7c272da2e1d7'}     0   \n",
       "2  {'offer id': '2906b810c7d4411798c6938adc9daaa5'}     0   \n",
       "\n",
       "                           offer_id offer_type  \n",
       "0  9b98b8c7a33c4b65b9aebfe6a799e6d9       bogo  \n",
       "1  0b1e1539f2cc45b7b9fa7c272da2e1d7   discount  \n",
       "2  2906b810c7d4411798c6938adc9daaa5   discount  "
      ]
     },
     "execution_count": 78,
     "metadata": {},
     "output_type": "execute_result"
    }
   ],
   "source": [
    "df_off.head(3)"
   ]
  },
  {
   "cell_type": "markdown",
   "id": "e1d582c1",
   "metadata": {},
   "source": [
    "***Apply one-hot encoding***"
   ]
  },
  {
   "cell_type": "code",
   "execution_count": 79,
   "id": "ced3513d",
   "metadata": {},
   "outputs": [],
   "source": [
    "df_off_one_hot_enc = pd.get_dummies(df_off, columns = ['event', 'offer_type'])"
   ]
  },
  {
   "cell_type": "code",
   "execution_count": 80,
   "id": "18a8a428",
   "metadata": {},
   "outputs": [
    {
     "data": {
      "text/html": [
       "<div>\n",
       "<style scoped>\n",
       "    .dataframe tbody tr th:only-of-type {\n",
       "        vertical-align: middle;\n",
       "    }\n",
       "\n",
       "    .dataframe tbody tr th {\n",
       "        vertical-align: top;\n",
       "    }\n",
       "\n",
       "    .dataframe thead th {\n",
       "        text-align: right;\n",
       "    }\n",
       "</style>\n",
       "<table border=\"1\" class=\"dataframe\">\n",
       "  <thead>\n",
       "    <tr style=\"text-align: right;\">\n",
       "      <th></th>\n",
       "      <th>person</th>\n",
       "      <th>value</th>\n",
       "      <th>time</th>\n",
       "      <th>offer_id</th>\n",
       "      <th>event_offer completed</th>\n",
       "      <th>event_offer received</th>\n",
       "      <th>event_offer viewed</th>\n",
       "      <th>offer_type_bogo</th>\n",
       "      <th>offer_type_discount</th>\n",
       "      <th>offer_type_informational</th>\n",
       "    </tr>\n",
       "  </thead>\n",
       "  <tbody>\n",
       "    <tr>\n",
       "      <th>0</th>\n",
       "      <td>78afa995795e4d85b5d9ceeca43f5fef</td>\n",
       "      <td>{'offer id': '9b98b8c7a33c4b65b9aebfe6a799e6d9'}</td>\n",
       "      <td>0</td>\n",
       "      <td>9b98b8c7a33c4b65b9aebfe6a799e6d9</td>\n",
       "      <td>0</td>\n",
       "      <td>1</td>\n",
       "      <td>0</td>\n",
       "      <td>1</td>\n",
       "      <td>0</td>\n",
       "      <td>0</td>\n",
       "    </tr>\n",
       "    <tr>\n",
       "      <th>1</th>\n",
       "      <td>a03223e636434f42ac4c3df47e8bac43</td>\n",
       "      <td>{'offer id': '0b1e1539f2cc45b7b9fa7c272da2e1d7'}</td>\n",
       "      <td>0</td>\n",
       "      <td>0b1e1539f2cc45b7b9fa7c272da2e1d7</td>\n",
       "      <td>0</td>\n",
       "      <td>1</td>\n",
       "      <td>0</td>\n",
       "      <td>0</td>\n",
       "      <td>1</td>\n",
       "      <td>0</td>\n",
       "    </tr>\n",
       "  </tbody>\n",
       "</table>\n",
       "</div>"
      ],
      "text/plain": [
       "                             person  \\\n",
       "0  78afa995795e4d85b5d9ceeca43f5fef   \n",
       "1  a03223e636434f42ac4c3df47e8bac43   \n",
       "\n",
       "                                              value  time  \\\n",
       "0  {'offer id': '9b98b8c7a33c4b65b9aebfe6a799e6d9'}     0   \n",
       "1  {'offer id': '0b1e1539f2cc45b7b9fa7c272da2e1d7'}     0   \n",
       "\n",
       "                           offer_id  event_offer completed  \\\n",
       "0  9b98b8c7a33c4b65b9aebfe6a799e6d9                      0   \n",
       "1  0b1e1539f2cc45b7b9fa7c272da2e1d7                      0   \n",
       "\n",
       "   event_offer received  event_offer viewed  offer_type_bogo  \\\n",
       "0                     1                   0                1   \n",
       "1                     1                   0                0   \n",
       "\n",
       "   offer_type_discount  offer_type_informational  \n",
       "0                    0                         0  \n",
       "1                    1                         0  "
      ]
     },
     "execution_count": 80,
     "metadata": {},
     "output_type": "execute_result"
    }
   ],
   "source": [
    "df_off_one_hot_enc.head(2)"
   ]
  },
  {
   "cell_type": "code",
   "execution_count": 81,
   "id": "3a1ea915",
   "metadata": {},
   "outputs": [],
   "source": [
    "df_off_one_hot_enc.columns = ['person', 'value', 'time', 'offer_id', 'offers_completed',\n",
    "                              'offers_received', 'offers_viewed', 'offer_type_bogo_cnt',\n",
    "                              'offer_type_discount_cnt', 'offer_type_informational_cnt']"
   ]
  },
  {
   "cell_type": "code",
   "execution_count": 82,
   "id": "c583ea20",
   "metadata": {},
   "outputs": [],
   "source": [
    "df_off_agg = df_off_one_hot_enc.groupby('person').agg({'offers_completed':'sum',\n",
    "                                                       'offers_received':'sum',\n",
    "                                                       'offers_viewed':'sum',\n",
    "                                                       'offer_type_bogo_cnt':'sum',\n",
    "                                                       'offer_type_discount_cnt':'sum',\n",
    "                                                       'offer_type_informational_cnt':'sum'}).reset_index()"
   ]
  },
  {
   "cell_type": "code",
   "execution_count": 83,
   "id": "73d92139",
   "metadata": {},
   "outputs": [
    {
     "data": {
      "text/html": [
       "<div>\n",
       "<style scoped>\n",
       "    .dataframe tbody tr th:only-of-type {\n",
       "        vertical-align: middle;\n",
       "    }\n",
       "\n",
       "    .dataframe tbody tr th {\n",
       "        vertical-align: top;\n",
       "    }\n",
       "\n",
       "    .dataframe thead th {\n",
       "        text-align: right;\n",
       "    }\n",
       "</style>\n",
       "<table border=\"1\" class=\"dataframe\">\n",
       "  <thead>\n",
       "    <tr style=\"text-align: right;\">\n",
       "      <th></th>\n",
       "      <th>person</th>\n",
       "      <th>offers_completed</th>\n",
       "      <th>offers_received</th>\n",
       "      <th>offers_viewed</th>\n",
       "      <th>offer_type_bogo_cnt</th>\n",
       "      <th>offer_type_discount_cnt</th>\n",
       "      <th>offer_type_informational_cnt</th>\n",
       "    </tr>\n",
       "  </thead>\n",
       "  <tbody>\n",
       "    <tr>\n",
       "      <th>0</th>\n",
       "      <td>0009655768c64bdeb2e877511632db8f</td>\n",
       "      <td>3</td>\n",
       "      <td>5</td>\n",
       "      <td>4</td>\n",
       "      <td>3</td>\n",
       "      <td>5</td>\n",
       "      <td>4</td>\n",
       "    </tr>\n",
       "    <tr>\n",
       "      <th>1</th>\n",
       "      <td>00116118485d4dfda04fdbaba9a87b5c</td>\n",
       "      <td>0</td>\n",
       "      <td>2</td>\n",
       "      <td>2</td>\n",
       "      <td>4</td>\n",
       "      <td>0</td>\n",
       "      <td>0</td>\n",
       "    </tr>\n",
       "    <tr>\n",
       "      <th>2</th>\n",
       "      <td>0011e0d4e6b944f998e987f904e8c1e5</td>\n",
       "      <td>3</td>\n",
       "      <td>5</td>\n",
       "      <td>5</td>\n",
       "      <td>3</td>\n",
       "      <td>6</td>\n",
       "      <td>4</td>\n",
       "    </tr>\n",
       "    <tr>\n",
       "      <th>3</th>\n",
       "      <td>0020c2b971eb4e9188eac86d93036a77</td>\n",
       "      <td>3</td>\n",
       "      <td>5</td>\n",
       "      <td>3</td>\n",
       "      <td>4</td>\n",
       "      <td>5</td>\n",
       "      <td>2</td>\n",
       "    </tr>\n",
       "    <tr>\n",
       "      <th>4</th>\n",
       "      <td>0020ccbbb6d84e358d3414a3ff76cffd</td>\n",
       "      <td>3</td>\n",
       "      <td>4</td>\n",
       "      <td>4</td>\n",
       "      <td>6</td>\n",
       "      <td>3</td>\n",
       "      <td>2</td>\n",
       "    </tr>\n",
       "  </tbody>\n",
       "</table>\n",
       "</div>"
      ],
      "text/plain": [
       "                             person  offers_completed  offers_received  \\\n",
       "0  0009655768c64bdeb2e877511632db8f                 3                5   \n",
       "1  00116118485d4dfda04fdbaba9a87b5c                 0                2   \n",
       "2  0011e0d4e6b944f998e987f904e8c1e5                 3                5   \n",
       "3  0020c2b971eb4e9188eac86d93036a77                 3                5   \n",
       "4  0020ccbbb6d84e358d3414a3ff76cffd                 3                4   \n",
       "\n",
       "   offers_viewed  offer_type_bogo_cnt  offer_type_discount_cnt  \\\n",
       "0              4                    3                        5   \n",
       "1              2                    4                        0   \n",
       "2              5                    3                        6   \n",
       "3              3                    4                        5   \n",
       "4              4                    6                        3   \n",
       "\n",
       "   offer_type_informational_cnt  \n",
       "0                             4  \n",
       "1                             0  \n",
       "2                             4  \n",
       "3                             2  \n",
       "4                             2  "
      ]
     },
     "execution_count": 83,
     "metadata": {},
     "output_type": "execute_result"
    }
   ],
   "source": [
    "df_off_agg.head()"
   ]
  },
  {
   "cell_type": "code",
   "execution_count": 84,
   "id": "4eca3ad3",
   "metadata": {},
   "outputs": [
    {
     "name": "stdout",
     "output_type": "stream",
     "text": [
      "<class 'pandas.core.frame.DataFrame'>\n",
      "RangeIndex: 16994 entries, 0 to 16993\n",
      "Data columns (total 7 columns):\n",
      " #   Column                        Non-Null Count  Dtype \n",
      "---  ------                        --------------  ----- \n",
      " 0   person                        16994 non-null  object\n",
      " 1   offers_completed              16994 non-null  uint8 \n",
      " 2   offers_received               16994 non-null  uint8 \n",
      " 3   offers_viewed                 16994 non-null  uint8 \n",
      " 4   offer_type_bogo_cnt           16994 non-null  uint8 \n",
      " 5   offer_type_discount_cnt       16994 non-null  uint8 \n",
      " 6   offer_type_informational_cnt  16994 non-null  uint8 \n",
      "dtypes: object(1), uint8(6)\n",
      "memory usage: 232.5+ KB\n"
     ]
    }
   ],
   "source": [
    "df_off_agg.info()"
   ]
  },
  {
   "cell_type": "markdown",
   "id": "93af8518",
   "metadata": {},
   "source": [
    "#### Merge transactions and offfer data"
   ]
  },
  {
   "cell_type": "code",
   "execution_count": 85,
   "id": "9ed552d7",
   "metadata": {},
   "outputs": [
    {
     "data": {
      "text/plain": [
       "16994"
      ]
     },
     "execution_count": 85,
     "metadata": {},
     "output_type": "execute_result"
    }
   ],
   "source": [
    "df_off_agg['person'].nunique()"
   ]
  },
  {
   "cell_type": "code",
   "execution_count": 86,
   "id": "0325fbb8",
   "metadata": {},
   "outputs": [
    {
     "data": {
      "text/plain": [
       "16578"
      ]
     },
     "execution_count": 86,
     "metadata": {},
     "output_type": "execute_result"
    }
   ],
   "source": [
    "df_tr_agg['person'].nunique()"
   ]
  },
  {
   "cell_type": "code",
   "execution_count": 87,
   "id": "c7d1495c",
   "metadata": {},
   "outputs": [],
   "source": [
    "df_tr_off = pd.merge(df_tr_agg, df_off_agg,\n",
    "                     left_on=['person'], right_on=['person'],\n",
    "                     how='outer')"
   ]
  },
  {
   "cell_type": "code",
   "execution_count": 88,
   "id": "304c4be8",
   "metadata": {},
   "outputs": [
    {
     "data": {
      "text/html": [
       "<div>\n",
       "<style scoped>\n",
       "    .dataframe tbody tr th:only-of-type {\n",
       "        vertical-align: middle;\n",
       "    }\n",
       "\n",
       "    .dataframe tbody tr th {\n",
       "        vertical-align: top;\n",
       "    }\n",
       "\n",
       "    .dataframe thead th {\n",
       "        text-align: right;\n",
       "    }\n",
       "</style>\n",
       "<table border=\"1\" class=\"dataframe\">\n",
       "  <thead>\n",
       "    <tr style=\"text-align: right;\">\n",
       "      <th></th>\n",
       "      <th>person</th>\n",
       "      <th>transactions_amount</th>\n",
       "      <th>transactions</th>\n",
       "      <th>offers_completed</th>\n",
       "      <th>offers_received</th>\n",
       "      <th>offers_viewed</th>\n",
       "      <th>offer_type_bogo_cnt</th>\n",
       "      <th>offer_type_discount_cnt</th>\n",
       "      <th>offer_type_informational_cnt</th>\n",
       "    </tr>\n",
       "  </thead>\n",
       "  <tbody>\n",
       "    <tr>\n",
       "      <th>0</th>\n",
       "      <td>0009655768c64bdeb2e877511632db8f</td>\n",
       "      <td>127.60</td>\n",
       "      <td>8.00</td>\n",
       "      <td>3.00</td>\n",
       "      <td>5.00</td>\n",
       "      <td>4.00</td>\n",
       "      <td>3.00</td>\n",
       "      <td>5.00</td>\n",
       "      <td>4.00</td>\n",
       "    </tr>\n",
       "    <tr>\n",
       "      <th>1</th>\n",
       "      <td>00116118485d4dfda04fdbaba9a87b5c</td>\n",
       "      <td>4.09</td>\n",
       "      <td>3.00</td>\n",
       "      <td>0.00</td>\n",
       "      <td>2.00</td>\n",
       "      <td>2.00</td>\n",
       "      <td>4.00</td>\n",
       "      <td>0.00</td>\n",
       "      <td>0.00</td>\n",
       "    </tr>\n",
       "    <tr>\n",
       "      <th>2</th>\n",
       "      <td>0011e0d4e6b944f998e987f904e8c1e5</td>\n",
       "      <td>79.46</td>\n",
       "      <td>5.00</td>\n",
       "      <td>3.00</td>\n",
       "      <td>5.00</td>\n",
       "      <td>5.00</td>\n",
       "      <td>3.00</td>\n",
       "      <td>6.00</td>\n",
       "      <td>4.00</td>\n",
       "    </tr>\n",
       "    <tr>\n",
       "      <th>3</th>\n",
       "      <td>0020c2b971eb4e9188eac86d93036a77</td>\n",
       "      <td>196.86</td>\n",
       "      <td>8.00</td>\n",
       "      <td>3.00</td>\n",
       "      <td>5.00</td>\n",
       "      <td>3.00</td>\n",
       "      <td>4.00</td>\n",
       "      <td>5.00</td>\n",
       "      <td>2.00</td>\n",
       "    </tr>\n",
       "    <tr>\n",
       "      <th>4</th>\n",
       "      <td>0020ccbbb6d84e358d3414a3ff76cffd</td>\n",
       "      <td>154.05</td>\n",
       "      <td>12.00</td>\n",
       "      <td>3.00</td>\n",
       "      <td>4.00</td>\n",
       "      <td>4.00</td>\n",
       "      <td>6.00</td>\n",
       "      <td>3.00</td>\n",
       "      <td>2.00</td>\n",
       "    </tr>\n",
       "  </tbody>\n",
       "</table>\n",
       "</div>"
      ],
      "text/plain": [
       "                             person  transactions_amount  transactions  \\\n",
       "0  0009655768c64bdeb2e877511632db8f               127.60          8.00   \n",
       "1  00116118485d4dfda04fdbaba9a87b5c                 4.09          3.00   \n",
       "2  0011e0d4e6b944f998e987f904e8c1e5                79.46          5.00   \n",
       "3  0020c2b971eb4e9188eac86d93036a77               196.86          8.00   \n",
       "4  0020ccbbb6d84e358d3414a3ff76cffd               154.05         12.00   \n",
       "\n",
       "   offers_completed  offers_received  offers_viewed  offer_type_bogo_cnt  \\\n",
       "0              3.00             5.00           4.00                 3.00   \n",
       "1              0.00             2.00           2.00                 4.00   \n",
       "2              3.00             5.00           5.00                 3.00   \n",
       "3              3.00             5.00           3.00                 4.00   \n",
       "4              3.00             4.00           4.00                 6.00   \n",
       "\n",
       "   offer_type_discount_cnt  offer_type_informational_cnt  \n",
       "0                     5.00                          4.00  \n",
       "1                     0.00                          0.00  \n",
       "2                     6.00                          4.00  \n",
       "3                     5.00                          2.00  \n",
       "4                     3.00                          2.00  "
      ]
     },
     "execution_count": 88,
     "metadata": {},
     "output_type": "execute_result"
    }
   ],
   "source": [
    "df_tr_off.head()"
   ]
  },
  {
   "cell_type": "code",
   "execution_count": 89,
   "id": "719f347b",
   "metadata": {},
   "outputs": [
    {
     "data": {
      "text/plain": [
       "17000"
      ]
     },
     "execution_count": 89,
     "metadata": {},
     "output_type": "execute_result"
    }
   ],
   "source": [
    "df_tr_off['person'].nunique()"
   ]
  },
  {
   "cell_type": "code",
   "execution_count": 90,
   "id": "4c6d9852",
   "metadata": {},
   "outputs": [
    {
     "data": {
      "text/plain": [
       "person                            0\n",
       "transactions_amount             422\n",
       "transactions                    422\n",
       "offers_completed                  6\n",
       "offers_received                   6\n",
       "offers_viewed                     6\n",
       "offer_type_bogo_cnt               6\n",
       "offer_type_discount_cnt           6\n",
       "offer_type_informational_cnt      6\n",
       "dtype: int64"
      ]
     },
     "execution_count": 90,
     "metadata": {},
     "output_type": "execute_result"
    }
   ],
   "source": [
    "df_tr_off.isnull().sum()"
   ]
  },
  {
   "cell_type": "code",
   "execution_count": 91,
   "id": "7fe22d0b",
   "metadata": {},
   "outputs": [],
   "source": [
    "df_tr_off.fillna(-1, inplace=True)"
   ]
  },
  {
   "cell_type": "code",
   "execution_count": 92,
   "id": "3fa32c35",
   "metadata": {},
   "outputs": [
    {
     "name": "stdout",
     "output_type": "stream",
     "text": [
      "<class 'pandas.core.frame.DataFrame'>\n",
      "Int64Index: 17000 entries, 0 to 16999\n",
      "Data columns (total 9 columns):\n",
      " #   Column                        Non-Null Count  Dtype  \n",
      "---  ------                        --------------  -----  \n",
      " 0   person                        17000 non-null  object \n",
      " 1   transactions_amount           17000 non-null  float64\n",
      " 2   transactions                  17000 non-null  float64\n",
      " 3   offers_completed              17000 non-null  float64\n",
      " 4   offers_received               17000 non-null  float64\n",
      " 5   offers_viewed                 17000 non-null  float64\n",
      " 6   offer_type_bogo_cnt           17000 non-null  float64\n",
      " 7   offer_type_discount_cnt       17000 non-null  float64\n",
      " 8   offer_type_informational_cnt  17000 non-null  float64\n",
      "dtypes: float64(8), object(1)\n",
      "memory usage: 1.3+ MB\n"
     ]
    }
   ],
   "source": [
    "df_tr_off.info()"
   ]
  },
  {
   "cell_type": "markdown",
   "id": "2865f6a6",
   "metadata": {},
   "source": [
    "### Merge profile and transcript data"
   ]
  },
  {
   "cell_type": "code",
   "execution_count": 93,
   "id": "af1129d6",
   "metadata": {},
   "outputs": [
    {
     "data": {
      "text/html": [
       "<div>\n",
       "<style scoped>\n",
       "    .dataframe tbody tr th:only-of-type {\n",
       "        vertical-align: middle;\n",
       "    }\n",
       "\n",
       "    .dataframe tbody tr th {\n",
       "        vertical-align: top;\n",
       "    }\n",
       "\n",
       "    .dataframe thead th {\n",
       "        text-align: right;\n",
       "    }\n",
       "</style>\n",
       "<table border=\"1\" class=\"dataframe\">\n",
       "  <thead>\n",
       "    <tr style=\"text-align: right;\">\n",
       "      <th></th>\n",
       "      <th>gender</th>\n",
       "      <th>age</th>\n",
       "      <th>person</th>\n",
       "      <th>income</th>\n",
       "      <th>days_being_member</th>\n",
       "    </tr>\n",
       "  </thead>\n",
       "  <tbody>\n",
       "    <tr>\n",
       "      <th>1</th>\n",
       "      <td>1</td>\n",
       "      <td>55</td>\n",
       "      <td>0610b486422d4921ae7d2bf64640c50b</td>\n",
       "      <td>112,000.00</td>\n",
       "      <td>376</td>\n",
       "    </tr>\n",
       "    <tr>\n",
       "      <th>3</th>\n",
       "      <td>1</td>\n",
       "      <td>75</td>\n",
       "      <td>78afa995795e4d85b5d9ceeca43f5fef</td>\n",
       "      <td>100,000.00</td>\n",
       "      <td>443</td>\n",
       "    </tr>\n",
       "    <tr>\n",
       "      <th>5</th>\n",
       "      <td>2</td>\n",
       "      <td>68</td>\n",
       "      <td>e2127556f4f64592b11af22de27a7932</td>\n",
       "      <td>70,000.00</td>\n",
       "      <td>91</td>\n",
       "    </tr>\n",
       "    <tr>\n",
       "      <th>8</th>\n",
       "      <td>2</td>\n",
       "      <td>65</td>\n",
       "      <td>389bc3fa690240e798340f5a15918d5c</td>\n",
       "      <td>53,000.00</td>\n",
       "      <td>167</td>\n",
       "    </tr>\n",
       "    <tr>\n",
       "      <th>12</th>\n",
       "      <td>2</td>\n",
       "      <td>58</td>\n",
       "      <td>2eeac8d8feae4a8cad5a6af0499a211d</td>\n",
       "      <td>51,000.00</td>\n",
       "      <td>257</td>\n",
       "    </tr>\n",
       "  </tbody>\n",
       "</table>\n",
       "</div>"
      ],
      "text/plain": [
       "    gender  age                            person     income  \\\n",
       "1        1   55  0610b486422d4921ae7d2bf64640c50b 112,000.00   \n",
       "3        1   75  78afa995795e4d85b5d9ceeca43f5fef 100,000.00   \n",
       "5        2   68  e2127556f4f64592b11af22de27a7932  70,000.00   \n",
       "8        2   65  389bc3fa690240e798340f5a15918d5c  53,000.00   \n",
       "12       2   58  2eeac8d8feae4a8cad5a6af0499a211d  51,000.00   \n",
       "\n",
       "    days_being_member  \n",
       "1                 376  \n",
       "3                 443  \n",
       "5                  91  \n",
       "8                 167  \n",
       "12                257  "
      ]
     },
     "execution_count": 93,
     "metadata": {},
     "output_type": "execute_result"
    }
   ],
   "source": [
    "df_p.head()"
   ]
  },
  {
   "cell_type": "code",
   "execution_count": 94,
   "id": "d82c758e",
   "metadata": {},
   "outputs": [
    {
     "data": {
      "text/plain": [
       "14820"
      ]
     },
     "execution_count": 94,
     "metadata": {},
     "output_type": "execute_result"
    }
   ],
   "source": [
    "df_p['person'].nunique()"
   ]
  },
  {
   "cell_type": "code",
   "execution_count": 95,
   "id": "ee7914bf",
   "metadata": {},
   "outputs": [
    {
     "data": {
      "text/plain": [
       "(14820, 5)"
      ]
     },
     "execution_count": 95,
     "metadata": {},
     "output_type": "execute_result"
    }
   ],
   "source": [
    "df_p.shape"
   ]
  },
  {
   "cell_type": "code",
   "execution_count": 96,
   "id": "21c2175f",
   "metadata": {},
   "outputs": [],
   "source": [
    "df = pd.merge(df_p, df_tr_off, left_on='person', right_on='person', how='left')"
   ]
  },
  {
   "cell_type": "code",
   "execution_count": 97,
   "id": "7c4900d9",
   "metadata": {},
   "outputs": [
    {
     "data": {
      "text/html": [
       "<div>\n",
       "<style scoped>\n",
       "    .dataframe tbody tr th:only-of-type {\n",
       "        vertical-align: middle;\n",
       "    }\n",
       "\n",
       "    .dataframe tbody tr th {\n",
       "        vertical-align: top;\n",
       "    }\n",
       "\n",
       "    .dataframe thead th {\n",
       "        text-align: right;\n",
       "    }\n",
       "</style>\n",
       "<table border=\"1\" class=\"dataframe\">\n",
       "  <thead>\n",
       "    <tr style=\"text-align: right;\">\n",
       "      <th></th>\n",
       "      <th>gender</th>\n",
       "      <th>age</th>\n",
       "      <th>person</th>\n",
       "      <th>income</th>\n",
       "      <th>days_being_member</th>\n",
       "      <th>transactions_amount</th>\n",
       "      <th>transactions</th>\n",
       "      <th>offers_completed</th>\n",
       "      <th>offers_received</th>\n",
       "      <th>offers_viewed</th>\n",
       "      <th>offer_type_bogo_cnt</th>\n",
       "      <th>offer_type_discount_cnt</th>\n",
       "      <th>offer_type_informational_cnt</th>\n",
       "    </tr>\n",
       "  </thead>\n",
       "  <tbody>\n",
       "    <tr>\n",
       "      <th>0</th>\n",
       "      <td>1</td>\n",
       "      <td>55</td>\n",
       "      <td>0610b486422d4921ae7d2bf64640c50b</td>\n",
       "      <td>112,000.00</td>\n",
       "      <td>376</td>\n",
       "      <td>77.01</td>\n",
       "      <td>3.00</td>\n",
       "      <td>1.00</td>\n",
       "      <td>2.00</td>\n",
       "      <td>0.00</td>\n",
       "      <td>2.00</td>\n",
       "      <td>0.00</td>\n",
       "      <td>1.00</td>\n",
       "    </tr>\n",
       "    <tr>\n",
       "      <th>1</th>\n",
       "      <td>1</td>\n",
       "      <td>75</td>\n",
       "      <td>78afa995795e4d85b5d9ceeca43f5fef</td>\n",
       "      <td>100,000.00</td>\n",
       "      <td>443</td>\n",
       "      <td>159.27</td>\n",
       "      <td>7.00</td>\n",
       "      <td>3.00</td>\n",
       "      <td>4.00</td>\n",
       "      <td>4.00</td>\n",
       "      <td>9.00</td>\n",
       "      <td>0.00</td>\n",
       "      <td>2.00</td>\n",
       "    </tr>\n",
       "    <tr>\n",
       "      <th>2</th>\n",
       "      <td>2</td>\n",
       "      <td>68</td>\n",
       "      <td>e2127556f4f64592b11af22de27a7932</td>\n",
       "      <td>70,000.00</td>\n",
       "      <td>91</td>\n",
       "      <td>57.73</td>\n",
       "      <td>3.00</td>\n",
       "      <td>2.00</td>\n",
       "      <td>4.00</td>\n",
       "      <td>3.00</td>\n",
       "      <td>3.00</td>\n",
       "      <td>5.00</td>\n",
       "      <td>1.00</td>\n",
       "    </tr>\n",
       "    <tr>\n",
       "      <th>3</th>\n",
       "      <td>2</td>\n",
       "      <td>65</td>\n",
       "      <td>389bc3fa690240e798340f5a15918d5c</td>\n",
       "      <td>53,000.00</td>\n",
       "      <td>167</td>\n",
       "      <td>36.43</td>\n",
       "      <td>3.00</td>\n",
       "      <td>5.00</td>\n",
       "      <td>6.00</td>\n",
       "      <td>6.00</td>\n",
       "      <td>11.00</td>\n",
       "      <td>6.00</td>\n",
       "      <td>0.00</td>\n",
       "    </tr>\n",
       "    <tr>\n",
       "      <th>4</th>\n",
       "      <td>2</td>\n",
       "      <td>58</td>\n",
       "      <td>2eeac8d8feae4a8cad5a6af0499a211d</td>\n",
       "      <td>51,000.00</td>\n",
       "      <td>257</td>\n",
       "      <td>15.62</td>\n",
       "      <td>4.00</td>\n",
       "      <td>1.00</td>\n",
       "      <td>3.00</td>\n",
       "      <td>2.00</td>\n",
       "      <td>0.00</td>\n",
       "      <td>5.00</td>\n",
       "      <td>1.00</td>\n",
       "    </tr>\n",
       "  </tbody>\n",
       "</table>\n",
       "</div>"
      ],
      "text/plain": [
       "   gender  age                            person     income  \\\n",
       "0       1   55  0610b486422d4921ae7d2bf64640c50b 112,000.00   \n",
       "1       1   75  78afa995795e4d85b5d9ceeca43f5fef 100,000.00   \n",
       "2       2   68  e2127556f4f64592b11af22de27a7932  70,000.00   \n",
       "3       2   65  389bc3fa690240e798340f5a15918d5c  53,000.00   \n",
       "4       2   58  2eeac8d8feae4a8cad5a6af0499a211d  51,000.00   \n",
       "\n",
       "   days_being_member  transactions_amount  transactions  offers_completed  \\\n",
       "0                376                77.01          3.00              1.00   \n",
       "1                443               159.27          7.00              3.00   \n",
       "2                 91                57.73          3.00              2.00   \n",
       "3                167                36.43          3.00              5.00   \n",
       "4                257                15.62          4.00              1.00   \n",
       "\n",
       "   offers_received  offers_viewed  offer_type_bogo_cnt  \\\n",
       "0             2.00           0.00                 2.00   \n",
       "1             4.00           4.00                 9.00   \n",
       "2             4.00           3.00                 3.00   \n",
       "3             6.00           6.00                11.00   \n",
       "4             3.00           2.00                 0.00   \n",
       "\n",
       "   offer_type_discount_cnt  offer_type_informational_cnt  \n",
       "0                     0.00                          1.00  \n",
       "1                     0.00                          2.00  \n",
       "2                     5.00                          1.00  \n",
       "3                     6.00                          0.00  \n",
       "4                     5.00                          1.00  "
      ]
     },
     "execution_count": 97,
     "metadata": {},
     "output_type": "execute_result"
    }
   ],
   "source": [
    "df.head()"
   ]
  },
  {
   "cell_type": "code",
   "execution_count": 98,
   "id": "2d8e5311",
   "metadata": {},
   "outputs": [
    {
     "name": "stdout",
     "output_type": "stream",
     "text": [
      "<class 'pandas.core.frame.DataFrame'>\n",
      "Int64Index: 14820 entries, 0 to 14819\n",
      "Data columns (total 13 columns):\n",
      " #   Column                        Non-Null Count  Dtype  \n",
      "---  ------                        --------------  -----  \n",
      " 0   gender                        14820 non-null  int64  \n",
      " 1   age                           14820 non-null  int64  \n",
      " 2   person                        14820 non-null  object \n",
      " 3   income                        14820 non-null  float64\n",
      " 4   days_being_member             14820 non-null  int64  \n",
      " 5   transactions_amount           14820 non-null  float64\n",
      " 6   transactions                  14820 non-null  float64\n",
      " 7   offers_completed              14820 non-null  float64\n",
      " 8   offers_received               14820 non-null  float64\n",
      " 9   offers_viewed                 14820 non-null  float64\n",
      " 10  offer_type_bogo_cnt           14820 non-null  float64\n",
      " 11  offer_type_discount_cnt       14820 non-null  float64\n",
      " 12  offer_type_informational_cnt  14820 non-null  float64\n",
      "dtypes: float64(9), int64(3), object(1)\n",
      "memory usage: 1.6+ MB\n"
     ]
    }
   ],
   "source": [
    "df.info()"
   ]
  },
  {
   "cell_type": "code",
   "execution_count": 100,
   "id": "b0218646",
   "metadata": {},
   "outputs": [],
   "source": [
    "# Let's save the dataset we will work with in the next sections\n",
    "df.to_csv(\"./data/starbucks/combined.csv\", index=False)"
   ]
  },
  {
   "cell_type": "markdown",
   "id": "b5f4ea05",
   "metadata": {},
   "source": [
    "## Analysis"
   ]
  },
  {
   "cell_type": "markdown",
   "id": "6ad29b6f",
   "metadata": {},
   "source": [
    "### Create user clusters"
   ]
  },
  {
   "cell_type": "code",
   "execution_count": null,
   "id": "708cade2",
   "metadata": {},
   "outputs": [],
   "source": []
  },
  {
   "cell_type": "code",
   "execution_count": null,
   "id": "6cdd83b1",
   "metadata": {},
   "outputs": [],
   "source": []
  },
  {
   "cell_type": "code",
   "execution_count": null,
   "id": "512c75b8",
   "metadata": {},
   "outputs": [],
   "source": []
  },
  {
   "cell_type": "code",
   "execution_count": null,
   "id": "79b7ce0c",
   "metadata": {},
   "outputs": [],
   "source": []
  },
  {
   "cell_type": "code",
   "execution_count": null,
   "id": "6999fb1e",
   "metadata": {},
   "outputs": [],
   "source": []
  },
  {
   "cell_type": "code",
   "execution_count": null,
   "id": "063046ee",
   "metadata": {},
   "outputs": [],
   "source": []
  },
  {
   "cell_type": "code",
   "execution_count": null,
   "id": "8d506d3d",
   "metadata": {},
   "outputs": [],
   "source": []
  },
  {
   "cell_type": "code",
   "execution_count": null,
   "id": "5e4f2407",
   "metadata": {},
   "outputs": [],
   "source": []
  },
  {
   "cell_type": "code",
   "execution_count": null,
   "id": "0d717e28",
   "metadata": {},
   "outputs": [],
   "source": []
  },
  {
   "cell_type": "code",
   "execution_count": null,
   "id": "6ccbe8be",
   "metadata": {},
   "outputs": [],
   "source": []
  }
 ],
 "metadata": {
  "kernelspec": {
   "display_name": "Python 3 (ipykernel)",
   "language": "python",
   "name": "python3"
  },
  "language_info": {
   "codemirror_mode": {
    "name": "ipython",
    "version": 3
   },
   "file_extension": ".py",
   "mimetype": "text/x-python",
   "name": "python",
   "nbconvert_exporter": "python",
   "pygments_lexer": "ipython3",
   "version": "3.8.15"
  },
  "toc": {
   "base_numbering": 1,
   "nav_menu": {},
   "number_sections": true,
   "sideBar": true,
   "skip_h1_title": false,
   "title_cell": "Table of Contents",
   "title_sidebar": "Contents",
   "toc_cell": false,
   "toc_position": {
    "height": "calc(100% - 180px)",
    "left": "10px",
    "top": "150px",
    "width": "384px"
   },
   "toc_section_display": true,
   "toc_window_display": true
  }
 },
 "nbformat": 4,
 "nbformat_minor": 5
}
